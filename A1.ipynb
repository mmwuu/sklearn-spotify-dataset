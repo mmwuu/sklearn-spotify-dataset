{
  "cells": [
    {
      "cell_type": "markdown",
      "metadata": {
        "id": "view-in-github",
        "colab_type": "text"
      },
      "source": [
        "<a href=\"https://colab.research.google.com/github/mmwuu/sklearn-spotify-dataset/blob/main/A1.ipynb\" target=\"_parent\"><img src=\"https://colab.research.google.com/assets/colab-badge.svg\" alt=\"Open In Colab\"/></a>"
      ]
    },
    {
      "cell_type": "markdown",
      "id": "76ffa401",
      "metadata": {
        "id": "76ffa401"
      },
      "source": [
        "# Assignment 1: Programming Assignment (20 marks)\n",
        "\n",
        "Student Name: `Michael Wu`\n",
        "\n",
        "Student ID: `1388097`\n",
        "\n",
        "## General info\n",
        "\n",
        "<b>Due date</b>: Friday, 12 April 2024 5pm\n",
        "\n",
        "<b>Submission method</b>: Canvas submission\n",
        "\n",
        "<b>Submission materials</b>: completed copy of this iPython notebook\n",
        "\n",
        "<b>Late submissions</b>: -10% per day up to 5 days (both weekdays and weekends count)\n",
        "<ul>\n",
        "    <li>one day late, -2.0;</li>\n",
        "    <li>two days late, -4.0;</li>\n",
        "    <li>three days late, -6.0;</li>\n",
        "    <li>four days late, -8.0;</li>\n",
        "    <li>five days late, -10.0;</li>\n",
        "</ul>\n",
        "\n",
        "<b>Marks</b>:  This assignment will be marked out of 20, and make up 20% of your overall mark for this subject.\n",
        "\n",
        "<b>Materials</b>: See [Using Jupyter Notebook and Python page] on Canvas (under Modules> Coding Resources) for information on the basic setup required for this class, including an iPython notebook viewer and the python packages `numpy`, `pandas`, `matplotlib` and `sklearn`. You can use any Python built-in packages, but do not use any other 3rd party packages; if your iPython notebook doesn't run on the marker's machine, you will lose marks. <b> You should use Python 3</b>.  \n",
        "\n",
        "<b>Evaluation</b>: Your iPython notebook should run end-to-end without any errors in a reasonable amount of time, and you must follow all instructions provided below, including specific implementation requirements and instructions for what needs to be printed (please avoid printing output we don't ask for). You should edit the sections below where requested, but leave the rest of the code as is. You should leave the output from running your code in the iPython notebook you submit, to assist with marking. The amount each section is worth is given in parenthesis after the instructions.\n",
        "\n",
        "\n",
        "<b>Updates</b>: Any major changes to the assignment will be announced via Canvas. Minor changes and clarifications will be announced on Canvas>Assignments>Assignmnet1; we recommend you check it regularly.\n",
        "\n",
        "<b>Academic misconduct</b>: This assignment is an individual task, and so reuse of code or other instances of clear influence will be considered cheating. Please check the <a href=\"https://canvas.lms.unimelb.edu.au/courses/124196/modules#module_662096\">CIS Academic Honesty training</a> for more information. We will be checking submissions for originality and will invoke the University’s <a href=\"http://academichonesty.unimelb.edu.au/policy.html\">Academic Misconduct policy</a> where inappropriate levels of collusion or plagiarism are deemed to have taken place. Content produced by an AI (including, but not limited to ChatGPT) is not your own work, and submitting such content will be treated as a case of academic misconduct, in line with the <a href=\"https://academicintegrity.unimelb.edu.au/plagiarism-and-collusion/artificial-intelligence-tools-and-technologies\"> University's policy</a>.\n",
        "\n",
        "**IMPORTANT**\n",
        "\n",
        "Please carefully read and fill out the <b>Authorship Declaration</b> form at the bottom of the page. Failure to fill out this form results in the following deductions:\n",
        "<UL TYPE=”square”>\n",
        "<LI>Missing Authorship Declaration at the bottom of the page, **-1.0**\n",
        "<LI>Incomplete or unsigned Authorship Declaration at the bottom of the page, **-0.5**\n",
        "</UL>\n"
      ]
    },
    {
      "cell_type": "markdown",
      "id": "a66d47f4",
      "metadata": {
        "id": "a66d47f4"
      },
      "source": [
        "## Overview:\n",
        "For this assignment, you will apply a number of classifiers on a given dataset, and\n",
        "explore various evaluation paradigms and analyze the impact of multiple parameters on the performance of the classifiers. You will then answer a number of conceptual questions about the Naive Bayes classifier, K-nearest neighbors, and Decision Tree and a number of baselines based on your observations.\n",
        "\n",
        "## Data Sets:\n",
        "In this assignment, you will work with the following dataset., which is adapted from Spotify website:\n",
        "\n",
        " - **Spotify**: You predict the genre of a Spotify track, based on various audio features and meta data information such as Artists and Album Name. More information can be found on the given README file.\n",
        "\n",
        "\n",
        "\n",
        "Here we have imported some of the modules and libraries that you might need to use."
      ]
    },
    {
      "cell_type": "code",
      "execution_count": null,
      "id": "d2b26164",
      "metadata": {
        "id": "d2b26164"
      },
      "outputs": [],
      "source": [
        "import pandas as pd\n",
        "import numpy as np\n",
        "import matplotlib.pyplot as plt\n",
        "import copy\n",
        "import math\n",
        "from collections import defaultdict, Counter"
      ]
    },
    {
      "cell_type": "code",
      "execution_count": null,
      "id": "afa339cc",
      "metadata": {
        "id": "afa339cc"
      },
      "outputs": [],
      "source": [
        "from sklearn.feature_extraction.text import CountVectorizer\n",
        "from sklearn.model_selection import train_test_split\n",
        "from sklearn.dummy import DummyClassifier\n",
        "from sklearn.naive_bayes import GaussianNB, MultinomialNB\n",
        "from sklearn.tree import DecisionTreeClassifier\n",
        "from sklearn.metrics import accuracy_score, precision_score,f1_score\n",
        "from sklearn.metrics import classification_report, confusion_matrix, ConfusionMatrixDisplay"
      ]
    },
    {
      "cell_type": "code",
      "execution_count": null,
      "id": "4d90b111-3c9f-4b4c-a0a6-413000636fc6",
      "metadata": {
        "id": "4d90b111-3c9f-4b4c-a0a6-413000636fc6"
      },
      "outputs": [],
      "source": [
        "# ignore warnings\n",
        "pd.options.mode.chained_assignment = None # default='warn'"
      ]
    },
    {
      "cell_type": "markdown",
      "id": "89a1c496",
      "metadata": {
        "id": "89a1c496"
      },
      "source": [
        "## Question 1. Reading and Pre-processing [2.5 marks]\n",
        "\n",
        "First, we read in the data into a pandas DataFrame.\n",
        "\n",
        "**A)** Print the first 3 rows of the DataFrame.\n",
        "\n",
        "**B)** Replace missing values denoted by `?` with a value using the **most suitable** data imputation methodology given the nature of given data. **[1.25 marks]** Please provide justification for your chosen methodology. **[0.75 marks]**\n",
        "\n",
        "**NOTE:** *There are multiple methods for performing data imputation. It is crucial to select the most appropriate method for each feature in this dataset and justify the selection. Different methods may be used for different features.*  \n"
      ]
    },
    {
      "cell_type": "markdown",
      "id": "e7287099-f1ff-484b-896a-db08abc5f500",
      "metadata": {
        "id": "e7287099-f1ff-484b-896a-db08abc5f500"
      },
      "source": [
        "Answer: Given the numeric nature of the popularity feature, and given that it is a score from 0 to 100, the data imputation methodology chosen is the median value. Furthermore, the data has a large number of zeros, so the median was chosen instead of the mean. The mean here is 28.\n",
        "\n",
        "For other numeric features, the number of missing values is very small compared to the size dataset. So, they will be dropped.\n",
        "\n",
        "For the artists name, I will use a fixed value methodology and replace the missing data with 'Not Available' for all cases.\n",
        "\n",
        "For the track_name, there are cases of #NAME?. For these values, I will also use the fixed value methodology and replace them with album_name."
      ]
    },
    {
      "cell_type": "code",
      "execution_count": null,
      "id": "e7b575f8-eb5f-44e5-b90d-bac51cbab33d",
      "metadata": {
        "colab": {
          "base_uri": "https://localhost:8080/",
          "height": 198
        },
        "id": "e7b575f8-eb5f-44e5-b90d-bac51cbab33d",
        "outputId": "787b79a9-3fc1-4977-9369-03f175d03839"
      },
      "outputs": [
        {
          "output_type": "execute_result",
          "data": {
            "text/plain": [
              "                  artists           album_name           track_name  \\\n",
              "0  Limoblaze;Lecrae;Happi  Jireh (My Provider)  Jireh (My Provider)   \n",
              "1                  Criolo       Ainda Há Tempo       Ainda Há Tempo   \n",
              "2                  Criolo              Fellini              Fellini   \n",
              "\n",
              "  popularity  duration_ms explicit  danceability  energy  key  loudness  mode  \\\n",
              "0         64       168000        0         0.443   0.778    0    -7.564     0   \n",
              "1         44       318360        0         0.580   0.800    6    -7.528     1   \n",
              "2          ?       171989        0         0.805   0.746    1    -5.211     0   \n",
              "\n",
              "   speechiness  acousticness  instrumentalness  liveness  valence    tempo  \\\n",
              "0        0.266         0.241               0.0    0.2150    0.628  128.250   \n",
              "1        0.345         0.281               0.0    0.0708    0.483   81.303   \n",
              "2        0.185         0.238               0.0    0.2150    0.717  127.922   \n",
              "\n",
              "   time_signature track_genre  \n",
              "0               5    afrobeat  \n",
              "1               4    afrobeat  \n",
              "2               4    afrobeat  "
            ],
            "text/html": [
              "\n",
              "  <div id=\"df-70ddd605-3756-4ff3-ac61-3a38461b9964\" class=\"colab-df-container\">\n",
              "    <div>\n",
              "<style scoped>\n",
              "    .dataframe tbody tr th:only-of-type {\n",
              "        vertical-align: middle;\n",
              "    }\n",
              "\n",
              "    .dataframe tbody tr th {\n",
              "        vertical-align: top;\n",
              "    }\n",
              "\n",
              "    .dataframe thead th {\n",
              "        text-align: right;\n",
              "    }\n",
              "</style>\n",
              "<table border=\"1\" class=\"dataframe\">\n",
              "  <thead>\n",
              "    <tr style=\"text-align: right;\">\n",
              "      <th></th>\n",
              "      <th>artists</th>\n",
              "      <th>album_name</th>\n",
              "      <th>track_name</th>\n",
              "      <th>popularity</th>\n",
              "      <th>duration_ms</th>\n",
              "      <th>explicit</th>\n",
              "      <th>danceability</th>\n",
              "      <th>energy</th>\n",
              "      <th>key</th>\n",
              "      <th>loudness</th>\n",
              "      <th>mode</th>\n",
              "      <th>speechiness</th>\n",
              "      <th>acousticness</th>\n",
              "      <th>instrumentalness</th>\n",
              "      <th>liveness</th>\n",
              "      <th>valence</th>\n",
              "      <th>tempo</th>\n",
              "      <th>time_signature</th>\n",
              "      <th>track_genre</th>\n",
              "    </tr>\n",
              "  </thead>\n",
              "  <tbody>\n",
              "    <tr>\n",
              "      <th>0</th>\n",
              "      <td>Limoblaze;Lecrae;Happi</td>\n",
              "      <td>Jireh (My Provider)</td>\n",
              "      <td>Jireh (My Provider)</td>\n",
              "      <td>64</td>\n",
              "      <td>168000</td>\n",
              "      <td>0</td>\n",
              "      <td>0.443</td>\n",
              "      <td>0.778</td>\n",
              "      <td>0</td>\n",
              "      <td>-7.564</td>\n",
              "      <td>0</td>\n",
              "      <td>0.266</td>\n",
              "      <td>0.241</td>\n",
              "      <td>0.0</td>\n",
              "      <td>0.2150</td>\n",
              "      <td>0.628</td>\n",
              "      <td>128.250</td>\n",
              "      <td>5</td>\n",
              "      <td>afrobeat</td>\n",
              "    </tr>\n",
              "    <tr>\n",
              "      <th>1</th>\n",
              "      <td>Criolo</td>\n",
              "      <td>Ainda Há Tempo</td>\n",
              "      <td>Ainda Há Tempo</td>\n",
              "      <td>44</td>\n",
              "      <td>318360</td>\n",
              "      <td>0</td>\n",
              "      <td>0.580</td>\n",
              "      <td>0.800</td>\n",
              "      <td>6</td>\n",
              "      <td>-7.528</td>\n",
              "      <td>1</td>\n",
              "      <td>0.345</td>\n",
              "      <td>0.281</td>\n",
              "      <td>0.0</td>\n",
              "      <td>0.0708</td>\n",
              "      <td>0.483</td>\n",
              "      <td>81.303</td>\n",
              "      <td>4</td>\n",
              "      <td>afrobeat</td>\n",
              "    </tr>\n",
              "    <tr>\n",
              "      <th>2</th>\n",
              "      <td>Criolo</td>\n",
              "      <td>Fellini</td>\n",
              "      <td>Fellini</td>\n",
              "      <td>?</td>\n",
              "      <td>171989</td>\n",
              "      <td>0</td>\n",
              "      <td>0.805</td>\n",
              "      <td>0.746</td>\n",
              "      <td>1</td>\n",
              "      <td>-5.211</td>\n",
              "      <td>0</td>\n",
              "      <td>0.185</td>\n",
              "      <td>0.238</td>\n",
              "      <td>0.0</td>\n",
              "      <td>0.2150</td>\n",
              "      <td>0.717</td>\n",
              "      <td>127.922</td>\n",
              "      <td>4</td>\n",
              "      <td>afrobeat</td>\n",
              "    </tr>\n",
              "  </tbody>\n",
              "</table>\n",
              "</div>\n",
              "    <div class=\"colab-df-buttons\">\n",
              "\n",
              "  <div class=\"colab-df-container\">\n",
              "    <button class=\"colab-df-convert\" onclick=\"convertToInteractive('df-70ddd605-3756-4ff3-ac61-3a38461b9964')\"\n",
              "            title=\"Convert this dataframe to an interactive table.\"\n",
              "            style=\"display:none;\">\n",
              "\n",
              "  <svg xmlns=\"http://www.w3.org/2000/svg\" height=\"24px\" viewBox=\"0 -960 960 960\">\n",
              "    <path d=\"M120-120v-720h720v720H120Zm60-500h600v-160H180v160Zm220 220h160v-160H400v160Zm0 220h160v-160H400v160ZM180-400h160v-160H180v160Zm440 0h160v-160H620v160ZM180-180h160v-160H180v160Zm440 0h160v-160H620v160Z\"/>\n",
              "  </svg>\n",
              "    </button>\n",
              "\n",
              "  <style>\n",
              "    .colab-df-container {\n",
              "      display:flex;\n",
              "      gap: 12px;\n",
              "    }\n",
              "\n",
              "    .colab-df-convert {\n",
              "      background-color: #E8F0FE;\n",
              "      border: none;\n",
              "      border-radius: 50%;\n",
              "      cursor: pointer;\n",
              "      display: none;\n",
              "      fill: #1967D2;\n",
              "      height: 32px;\n",
              "      padding: 0 0 0 0;\n",
              "      width: 32px;\n",
              "    }\n",
              "\n",
              "    .colab-df-convert:hover {\n",
              "      background-color: #E2EBFA;\n",
              "      box-shadow: 0px 1px 2px rgba(60, 64, 67, 0.3), 0px 1px 3px 1px rgba(60, 64, 67, 0.15);\n",
              "      fill: #174EA6;\n",
              "    }\n",
              "\n",
              "    .colab-df-buttons div {\n",
              "      margin-bottom: 4px;\n",
              "    }\n",
              "\n",
              "    [theme=dark] .colab-df-convert {\n",
              "      background-color: #3B4455;\n",
              "      fill: #D2E3FC;\n",
              "    }\n",
              "\n",
              "    [theme=dark] .colab-df-convert:hover {\n",
              "      background-color: #434B5C;\n",
              "      box-shadow: 0px 1px 3px 1px rgba(0, 0, 0, 0.15);\n",
              "      filter: drop-shadow(0px 1px 2px rgba(0, 0, 0, 0.3));\n",
              "      fill: #FFFFFF;\n",
              "    }\n",
              "  </style>\n",
              "\n",
              "    <script>\n",
              "      const buttonEl =\n",
              "        document.querySelector('#df-70ddd605-3756-4ff3-ac61-3a38461b9964 button.colab-df-convert');\n",
              "      buttonEl.style.display =\n",
              "        google.colab.kernel.accessAllowed ? 'block' : 'none';\n",
              "\n",
              "      async function convertToInteractive(key) {\n",
              "        const element = document.querySelector('#df-70ddd605-3756-4ff3-ac61-3a38461b9964');\n",
              "        const dataTable =\n",
              "          await google.colab.kernel.invokeFunction('convertToInteractive',\n",
              "                                                    [key], {});\n",
              "        if (!dataTable) return;\n",
              "\n",
              "        const docLinkHtml = 'Like what you see? Visit the ' +\n",
              "          '<a target=\"_blank\" href=https://colab.research.google.com/notebooks/data_table.ipynb>data table notebook</a>'\n",
              "          + ' to learn more about interactive tables.';\n",
              "        element.innerHTML = '';\n",
              "        dataTable['output_type'] = 'display_data';\n",
              "        await google.colab.output.renderOutput(dataTable, element);\n",
              "        const docLink = document.createElement('div');\n",
              "        docLink.innerHTML = docLinkHtml;\n",
              "        element.appendChild(docLink);\n",
              "      }\n",
              "    </script>\n",
              "  </div>\n",
              "\n",
              "\n",
              "<div id=\"df-092c169a-068f-4230-8d2a-d3af84833248\">\n",
              "  <button class=\"colab-df-quickchart\" onclick=\"quickchart('df-092c169a-068f-4230-8d2a-d3af84833248')\"\n",
              "            title=\"Suggest charts\"\n",
              "            style=\"display:none;\">\n",
              "\n",
              "<svg xmlns=\"http://www.w3.org/2000/svg\" height=\"24px\"viewBox=\"0 0 24 24\"\n",
              "     width=\"24px\">\n",
              "    <g>\n",
              "        <path d=\"M19 3H5c-1.1 0-2 .9-2 2v14c0 1.1.9 2 2 2h14c1.1 0 2-.9 2-2V5c0-1.1-.9-2-2-2zM9 17H7v-7h2v7zm4 0h-2V7h2v10zm4 0h-2v-4h2v4z\"/>\n",
              "    </g>\n",
              "</svg>\n",
              "  </button>\n",
              "\n",
              "<style>\n",
              "  .colab-df-quickchart {\n",
              "      --bg-color: #E8F0FE;\n",
              "      --fill-color: #1967D2;\n",
              "      --hover-bg-color: #E2EBFA;\n",
              "      --hover-fill-color: #174EA6;\n",
              "      --disabled-fill-color: #AAA;\n",
              "      --disabled-bg-color: #DDD;\n",
              "  }\n",
              "\n",
              "  [theme=dark] .colab-df-quickchart {\n",
              "      --bg-color: #3B4455;\n",
              "      --fill-color: #D2E3FC;\n",
              "      --hover-bg-color: #434B5C;\n",
              "      --hover-fill-color: #FFFFFF;\n",
              "      --disabled-bg-color: #3B4455;\n",
              "      --disabled-fill-color: #666;\n",
              "  }\n",
              "\n",
              "  .colab-df-quickchart {\n",
              "    background-color: var(--bg-color);\n",
              "    border: none;\n",
              "    border-radius: 50%;\n",
              "    cursor: pointer;\n",
              "    display: none;\n",
              "    fill: var(--fill-color);\n",
              "    height: 32px;\n",
              "    padding: 0;\n",
              "    width: 32px;\n",
              "  }\n",
              "\n",
              "  .colab-df-quickchart:hover {\n",
              "    background-color: var(--hover-bg-color);\n",
              "    box-shadow: 0 1px 2px rgba(60, 64, 67, 0.3), 0 1px 3px 1px rgba(60, 64, 67, 0.15);\n",
              "    fill: var(--button-hover-fill-color);\n",
              "  }\n",
              "\n",
              "  .colab-df-quickchart-complete:disabled,\n",
              "  .colab-df-quickchart-complete:disabled:hover {\n",
              "    background-color: var(--disabled-bg-color);\n",
              "    fill: var(--disabled-fill-color);\n",
              "    box-shadow: none;\n",
              "  }\n",
              "\n",
              "  .colab-df-spinner {\n",
              "    border: 2px solid var(--fill-color);\n",
              "    border-color: transparent;\n",
              "    border-bottom-color: var(--fill-color);\n",
              "    animation:\n",
              "      spin 1s steps(1) infinite;\n",
              "  }\n",
              "\n",
              "  @keyframes spin {\n",
              "    0% {\n",
              "      border-color: transparent;\n",
              "      border-bottom-color: var(--fill-color);\n",
              "      border-left-color: var(--fill-color);\n",
              "    }\n",
              "    20% {\n",
              "      border-color: transparent;\n",
              "      border-left-color: var(--fill-color);\n",
              "      border-top-color: var(--fill-color);\n",
              "    }\n",
              "    30% {\n",
              "      border-color: transparent;\n",
              "      border-left-color: var(--fill-color);\n",
              "      border-top-color: var(--fill-color);\n",
              "      border-right-color: var(--fill-color);\n",
              "    }\n",
              "    40% {\n",
              "      border-color: transparent;\n",
              "      border-right-color: var(--fill-color);\n",
              "      border-top-color: var(--fill-color);\n",
              "    }\n",
              "    60% {\n",
              "      border-color: transparent;\n",
              "      border-right-color: var(--fill-color);\n",
              "    }\n",
              "    80% {\n",
              "      border-color: transparent;\n",
              "      border-right-color: var(--fill-color);\n",
              "      border-bottom-color: var(--fill-color);\n",
              "    }\n",
              "    90% {\n",
              "      border-color: transparent;\n",
              "      border-bottom-color: var(--fill-color);\n",
              "    }\n",
              "  }\n",
              "</style>\n",
              "\n",
              "  <script>\n",
              "    async function quickchart(key) {\n",
              "      const quickchartButtonEl =\n",
              "        document.querySelector('#' + key + ' button');\n",
              "      quickchartButtonEl.disabled = true;  // To prevent multiple clicks.\n",
              "      quickchartButtonEl.classList.add('colab-df-spinner');\n",
              "      try {\n",
              "        const charts = await google.colab.kernel.invokeFunction(\n",
              "            'suggestCharts', [key], {});\n",
              "      } catch (error) {\n",
              "        console.error('Error during call to suggestCharts:', error);\n",
              "      }\n",
              "      quickchartButtonEl.classList.remove('colab-df-spinner');\n",
              "      quickchartButtonEl.classList.add('colab-df-quickchart-complete');\n",
              "    }\n",
              "    (() => {\n",
              "      let quickchartButtonEl =\n",
              "        document.querySelector('#df-092c169a-068f-4230-8d2a-d3af84833248 button');\n",
              "      quickchartButtonEl.style.display =\n",
              "        google.colab.kernel.accessAllowed ? 'block' : 'none';\n",
              "    })();\n",
              "  </script>\n",
              "</div>\n",
              "\n",
              "    </div>\n",
              "  </div>\n"
            ],
            "application/vnd.google.colaboratory.intrinsic+json": {
              "type": "dataframe",
              "summary": "{\n  \"name\": \"df\",\n  \"rows\": 3,\n  \"fields\": [\n    {\n      \"column\": \"artists\",\n      \"properties\": {\n        \"dtype\": \"string\",\n        \"num_unique_values\": 2,\n        \"samples\": [\n          \"Criolo\",\n          \"Limoblaze;Lecrae;Happi\"\n        ],\n        \"semantic_type\": \"\",\n        \"description\": \"\"\n      }\n    },\n    {\n      \"column\": \"album_name\",\n      \"properties\": {\n        \"dtype\": \"string\",\n        \"num_unique_values\": 3,\n        \"samples\": [\n          \"Jireh (My Provider)\",\n          \"Ainda H\\u00e1 Tempo\"\n        ],\n        \"semantic_type\": \"\",\n        \"description\": \"\"\n      }\n    },\n    {\n      \"column\": \"track_name\",\n      \"properties\": {\n        \"dtype\": \"string\",\n        \"num_unique_values\": 3,\n        \"samples\": [\n          \"Jireh (My Provider)\",\n          \"Ainda H\\u00e1 Tempo\"\n        ],\n        \"semantic_type\": \"\",\n        \"description\": \"\"\n      }\n    },\n    {\n      \"column\": \"popularity\",\n      \"properties\": {\n        \"dtype\": \"string\",\n        \"num_unique_values\": 3,\n        \"samples\": [\n          \"64\",\n          \"44\"\n        ],\n        \"semantic_type\": \"\",\n        \"description\": \"\"\n      }\n    },\n    {\n      \"column\": \"duration_ms\",\n      \"properties\": {\n        \"dtype\": \"number\",\n        \"std\": 85682,\n        \"min\": 168000,\n        \"max\": 318360,\n        \"num_unique_values\": 3,\n        \"samples\": [\n          168000,\n          318360\n        ],\n        \"semantic_type\": \"\",\n        \"description\": \"\"\n      }\n    },\n    {\n      \"column\": \"explicit\",\n      \"properties\": {\n        \"dtype\": \"category\",\n        \"num_unique_values\": 1,\n        \"samples\": [\n          \"0\"\n        ],\n        \"semantic_type\": \"\",\n        \"description\": \"\"\n      }\n    },\n    {\n      \"column\": \"danceability\",\n      \"properties\": {\n        \"dtype\": \"number\",\n        \"std\": 0.1827739952327282,\n        \"min\": 0.443,\n        \"max\": 0.805,\n        \"num_unique_values\": 3,\n        \"samples\": [\n          0.443\n        ],\n        \"semantic_type\": \"\",\n        \"description\": \"\"\n      }\n    },\n    {\n      \"column\": \"energy\",\n      \"properties\": {\n        \"dtype\": \"number\",\n        \"std\": 0.027153882472555093,\n        \"min\": 0.746,\n        \"max\": 0.8,\n        \"num_unique_values\": 3,\n        \"samples\": [\n          0.778\n        ],\n        \"semantic_type\": \"\",\n        \"description\": \"\"\n      }\n    },\n    {\n      \"column\": \"key\",\n      \"properties\": {\n        \"dtype\": \"number\",\n        \"std\": 3,\n        \"min\": 0,\n        \"max\": 6,\n        \"num_unique_values\": 3,\n        \"samples\": [\n          0\n        ],\n        \"semantic_type\": \"\",\n        \"description\": \"\"\n      }\n    },\n    {\n      \"column\": \"loudness\",\n      \"properties\": {\n        \"dtype\": \"number\",\n        \"std\": 1.3482330411814318,\n        \"min\": -7.564,\n        \"max\": -5.211,\n        \"num_unique_values\": 3,\n        \"samples\": [\n          -7.564\n        ],\n        \"semantic_type\": \"\",\n        \"description\": \"\"\n      }\n    },\n    {\n      \"column\": \"mode\",\n      \"properties\": {\n        \"dtype\": \"number\",\n        \"std\": 0,\n        \"min\": 0,\n        \"max\": 1,\n        \"num_unique_values\": 2,\n        \"samples\": [\n          1\n        ],\n        \"semantic_type\": \"\",\n        \"description\": \"\"\n      }\n    },\n    {\n      \"column\": \"speechiness\",\n      \"properties\": {\n        \"dtype\": \"number\",\n        \"std\": 0.08000208330620728,\n        \"min\": 0.185,\n        \"max\": 0.345,\n        \"num_unique_values\": 3,\n        \"samples\": [\n          0.266\n        ],\n        \"semantic_type\": \"\",\n        \"description\": \"\"\n      }\n    },\n    {\n      \"column\": \"acousticness\",\n      \"properties\": {\n        \"dtype\": \"number\",\n        \"std\": 0.024006943440041142,\n        \"min\": 0.238,\n        \"max\": 0.281,\n        \"num_unique_values\": 3,\n        \"samples\": [\n          0.241\n        ],\n        \"semantic_type\": \"\",\n        \"description\": \"\"\n      }\n    },\n    {\n      \"column\": \"instrumentalness\",\n      \"properties\": {\n        \"dtype\": \"number\",\n        \"std\": 0.0,\n        \"min\": 0.0,\n        \"max\": 0.0,\n        \"num_unique_values\": 1,\n        \"samples\": [\n          0.0\n        ],\n        \"semantic_type\": \"\",\n        \"description\": \"\"\n      }\n    },\n    {\n      \"column\": \"liveness\",\n      \"properties\": {\n        \"dtype\": \"number\",\n        \"std\": 0.08325390881714402,\n        \"min\": 0.0708,\n        \"max\": 0.215,\n        \"num_unique_values\": 2,\n        \"samples\": [\n          0.0708\n        ],\n        \"semantic_type\": \"\",\n        \"description\": \"\"\n      }\n    },\n    {\n      \"column\": \"valence\",\n      \"properties\": {\n        \"dtype\": \"number\",\n        \"std\": 0.1181115292142699,\n        \"min\": 0.483,\n        \"max\": 0.717,\n        \"num_unique_values\": 3,\n        \"samples\": [\n          0.628\n        ],\n        \"semantic_type\": \"\",\n        \"description\": \"\"\n      }\n    },\n    {\n      \"column\": \"tempo\",\n      \"properties\": {\n        \"dtype\": \"number\",\n        \"std\": 27.010675525305423,\n        \"min\": 81.303,\n        \"max\": 128.25,\n        \"num_unique_values\": 3,\n        \"samples\": [\n          128.25\n        ],\n        \"semantic_type\": \"\",\n        \"description\": \"\"\n      }\n    },\n    {\n      \"column\": \"time_signature\",\n      \"properties\": {\n        \"dtype\": \"number\",\n        \"std\": 0,\n        \"min\": 4,\n        \"max\": 5,\n        \"num_unique_values\": 2,\n        \"samples\": [\n          4\n        ],\n        \"semantic_type\": \"\",\n        \"description\": \"\"\n      }\n    },\n    {\n      \"column\": \"track_genre\",\n      \"properties\": {\n        \"dtype\": \"category\",\n        \"num_unique_values\": 1,\n        \"samples\": [\n          \"afrobeat\"\n        ],\n        \"semantic_type\": \"\",\n        \"description\": \"\"\n      }\n    }\n  ]\n}"
            }
          },
          "metadata": {},
          "execution_count": 4
        }
      ],
      "source": [
        "df = pd.read_csv('Spotify.csv')\n",
        "\n",
        "## your code here\n",
        "# A) Print first 3 rows of DataFrame\n",
        "df.iloc[0:3]\n"
      ]
    },
    {
      "cell_type": "code",
      "source": [
        "# B) Replace missing values\n",
        "# for popularity\n",
        "df['popularity'] = df['popularity'].replace('?', pd.NA)\n",
        "median_popularity = df['popularity'].median()\n",
        "df['popularity'] = df['popularity'].fillna(median_popularity)\n",
        "df['popularity'] = df['popularity'].astype(int)\n",
        "\n",
        "# drop remaining rows with missing data\n",
        "df = df.replace('?', pd.NA)\n",
        "df.dropna(inplace=True)\n",
        "\n",
        "\n",
        "# For artists\n",
        "df['artists'] = df['artists'].replace('?', 'Not Available')\n",
        "\n",
        "# For track_name\n",
        "df.loc[df['track_name'] == '#NAME?', 'track_name'] = df['album_name']\n",
        "\n",
        "# Demonstration of filled in datagram\n",
        "df.iloc[0:3]"
      ],
      "metadata": {
        "colab": {
          "base_uri": "https://localhost:8080/",
          "height": 198
        },
        "id": "dhIWkQOkvqMS",
        "outputId": "eb349409-f698-4642-94d0-e5e8b05c2c0f"
      },
      "id": "dhIWkQOkvqMS",
      "execution_count": null,
      "outputs": [
        {
          "output_type": "execute_result",
          "data": {
            "text/plain": [
              "                  artists           album_name           track_name  \\\n",
              "0  Limoblaze;Lecrae;Happi  Jireh (My Provider)  Jireh (My Provider)   \n",
              "1                  Criolo       Ainda Há Tempo       Ainda Há Tempo   \n",
              "2                  Criolo              Fellini              Fellini   \n",
              "\n",
              "   popularity  duration_ms explicit  danceability  energy  key  loudness  \\\n",
              "0          64       168000        0         0.443   0.778    0    -7.564   \n",
              "1          44       318360        0         0.580   0.800    6    -7.528   \n",
              "2          28       171989        0         0.805   0.746    1    -5.211   \n",
              "\n",
              "   mode  speechiness  acousticness  instrumentalness  liveness  valence  \\\n",
              "0     0        0.266         0.241               0.0    0.2150    0.628   \n",
              "1     1        0.345         0.281               0.0    0.0708    0.483   \n",
              "2     0        0.185         0.238               0.0    0.2150    0.717   \n",
              "\n",
              "     tempo  time_signature track_genre  \n",
              "0  128.250               5    afrobeat  \n",
              "1   81.303               4    afrobeat  \n",
              "2  127.922               4    afrobeat  "
            ],
            "text/html": [
              "\n",
              "  <div id=\"df-ad96cefb-d512-4705-a80d-0973c1afdcbb\" class=\"colab-df-container\">\n",
              "    <div>\n",
              "<style scoped>\n",
              "    .dataframe tbody tr th:only-of-type {\n",
              "        vertical-align: middle;\n",
              "    }\n",
              "\n",
              "    .dataframe tbody tr th {\n",
              "        vertical-align: top;\n",
              "    }\n",
              "\n",
              "    .dataframe thead th {\n",
              "        text-align: right;\n",
              "    }\n",
              "</style>\n",
              "<table border=\"1\" class=\"dataframe\">\n",
              "  <thead>\n",
              "    <tr style=\"text-align: right;\">\n",
              "      <th></th>\n",
              "      <th>artists</th>\n",
              "      <th>album_name</th>\n",
              "      <th>track_name</th>\n",
              "      <th>popularity</th>\n",
              "      <th>duration_ms</th>\n",
              "      <th>explicit</th>\n",
              "      <th>danceability</th>\n",
              "      <th>energy</th>\n",
              "      <th>key</th>\n",
              "      <th>loudness</th>\n",
              "      <th>mode</th>\n",
              "      <th>speechiness</th>\n",
              "      <th>acousticness</th>\n",
              "      <th>instrumentalness</th>\n",
              "      <th>liveness</th>\n",
              "      <th>valence</th>\n",
              "      <th>tempo</th>\n",
              "      <th>time_signature</th>\n",
              "      <th>track_genre</th>\n",
              "    </tr>\n",
              "  </thead>\n",
              "  <tbody>\n",
              "    <tr>\n",
              "      <th>0</th>\n",
              "      <td>Limoblaze;Lecrae;Happi</td>\n",
              "      <td>Jireh (My Provider)</td>\n",
              "      <td>Jireh (My Provider)</td>\n",
              "      <td>64</td>\n",
              "      <td>168000</td>\n",
              "      <td>0</td>\n",
              "      <td>0.443</td>\n",
              "      <td>0.778</td>\n",
              "      <td>0</td>\n",
              "      <td>-7.564</td>\n",
              "      <td>0</td>\n",
              "      <td>0.266</td>\n",
              "      <td>0.241</td>\n",
              "      <td>0.0</td>\n",
              "      <td>0.2150</td>\n",
              "      <td>0.628</td>\n",
              "      <td>128.250</td>\n",
              "      <td>5</td>\n",
              "      <td>afrobeat</td>\n",
              "    </tr>\n",
              "    <tr>\n",
              "      <th>1</th>\n",
              "      <td>Criolo</td>\n",
              "      <td>Ainda Há Tempo</td>\n",
              "      <td>Ainda Há Tempo</td>\n",
              "      <td>44</td>\n",
              "      <td>318360</td>\n",
              "      <td>0</td>\n",
              "      <td>0.580</td>\n",
              "      <td>0.800</td>\n",
              "      <td>6</td>\n",
              "      <td>-7.528</td>\n",
              "      <td>1</td>\n",
              "      <td>0.345</td>\n",
              "      <td>0.281</td>\n",
              "      <td>0.0</td>\n",
              "      <td>0.0708</td>\n",
              "      <td>0.483</td>\n",
              "      <td>81.303</td>\n",
              "      <td>4</td>\n",
              "      <td>afrobeat</td>\n",
              "    </tr>\n",
              "    <tr>\n",
              "      <th>2</th>\n",
              "      <td>Criolo</td>\n",
              "      <td>Fellini</td>\n",
              "      <td>Fellini</td>\n",
              "      <td>28</td>\n",
              "      <td>171989</td>\n",
              "      <td>0</td>\n",
              "      <td>0.805</td>\n",
              "      <td>0.746</td>\n",
              "      <td>1</td>\n",
              "      <td>-5.211</td>\n",
              "      <td>0</td>\n",
              "      <td>0.185</td>\n",
              "      <td>0.238</td>\n",
              "      <td>0.0</td>\n",
              "      <td>0.2150</td>\n",
              "      <td>0.717</td>\n",
              "      <td>127.922</td>\n",
              "      <td>4</td>\n",
              "      <td>afrobeat</td>\n",
              "    </tr>\n",
              "  </tbody>\n",
              "</table>\n",
              "</div>\n",
              "    <div class=\"colab-df-buttons\">\n",
              "\n",
              "  <div class=\"colab-df-container\">\n",
              "    <button class=\"colab-df-convert\" onclick=\"convertToInteractive('df-ad96cefb-d512-4705-a80d-0973c1afdcbb')\"\n",
              "            title=\"Convert this dataframe to an interactive table.\"\n",
              "            style=\"display:none;\">\n",
              "\n",
              "  <svg xmlns=\"http://www.w3.org/2000/svg\" height=\"24px\" viewBox=\"0 -960 960 960\">\n",
              "    <path d=\"M120-120v-720h720v720H120Zm60-500h600v-160H180v160Zm220 220h160v-160H400v160Zm0 220h160v-160H400v160ZM180-400h160v-160H180v160Zm440 0h160v-160H620v160ZM180-180h160v-160H180v160Zm440 0h160v-160H620v160Z\"/>\n",
              "  </svg>\n",
              "    </button>\n",
              "\n",
              "  <style>\n",
              "    .colab-df-container {\n",
              "      display:flex;\n",
              "      gap: 12px;\n",
              "    }\n",
              "\n",
              "    .colab-df-convert {\n",
              "      background-color: #E8F0FE;\n",
              "      border: none;\n",
              "      border-radius: 50%;\n",
              "      cursor: pointer;\n",
              "      display: none;\n",
              "      fill: #1967D2;\n",
              "      height: 32px;\n",
              "      padding: 0 0 0 0;\n",
              "      width: 32px;\n",
              "    }\n",
              "\n",
              "    .colab-df-convert:hover {\n",
              "      background-color: #E2EBFA;\n",
              "      box-shadow: 0px 1px 2px rgba(60, 64, 67, 0.3), 0px 1px 3px 1px rgba(60, 64, 67, 0.15);\n",
              "      fill: #174EA6;\n",
              "    }\n",
              "\n",
              "    .colab-df-buttons div {\n",
              "      margin-bottom: 4px;\n",
              "    }\n",
              "\n",
              "    [theme=dark] .colab-df-convert {\n",
              "      background-color: #3B4455;\n",
              "      fill: #D2E3FC;\n",
              "    }\n",
              "\n",
              "    [theme=dark] .colab-df-convert:hover {\n",
              "      background-color: #434B5C;\n",
              "      box-shadow: 0px 1px 3px 1px rgba(0, 0, 0, 0.15);\n",
              "      filter: drop-shadow(0px 1px 2px rgba(0, 0, 0, 0.3));\n",
              "      fill: #FFFFFF;\n",
              "    }\n",
              "  </style>\n",
              "\n",
              "    <script>\n",
              "      const buttonEl =\n",
              "        document.querySelector('#df-ad96cefb-d512-4705-a80d-0973c1afdcbb button.colab-df-convert');\n",
              "      buttonEl.style.display =\n",
              "        google.colab.kernel.accessAllowed ? 'block' : 'none';\n",
              "\n",
              "      async function convertToInteractive(key) {\n",
              "        const element = document.querySelector('#df-ad96cefb-d512-4705-a80d-0973c1afdcbb');\n",
              "        const dataTable =\n",
              "          await google.colab.kernel.invokeFunction('convertToInteractive',\n",
              "                                                    [key], {});\n",
              "        if (!dataTable) return;\n",
              "\n",
              "        const docLinkHtml = 'Like what you see? Visit the ' +\n",
              "          '<a target=\"_blank\" href=https://colab.research.google.com/notebooks/data_table.ipynb>data table notebook</a>'\n",
              "          + ' to learn more about interactive tables.';\n",
              "        element.innerHTML = '';\n",
              "        dataTable['output_type'] = 'display_data';\n",
              "        await google.colab.output.renderOutput(dataTable, element);\n",
              "        const docLink = document.createElement('div');\n",
              "        docLink.innerHTML = docLinkHtml;\n",
              "        element.appendChild(docLink);\n",
              "      }\n",
              "    </script>\n",
              "  </div>\n",
              "\n",
              "\n",
              "<div id=\"df-c53236f3-4260-4e2e-b687-5f26994666ab\">\n",
              "  <button class=\"colab-df-quickchart\" onclick=\"quickchart('df-c53236f3-4260-4e2e-b687-5f26994666ab')\"\n",
              "            title=\"Suggest charts\"\n",
              "            style=\"display:none;\">\n",
              "\n",
              "<svg xmlns=\"http://www.w3.org/2000/svg\" height=\"24px\"viewBox=\"0 0 24 24\"\n",
              "     width=\"24px\">\n",
              "    <g>\n",
              "        <path d=\"M19 3H5c-1.1 0-2 .9-2 2v14c0 1.1.9 2 2 2h14c1.1 0 2-.9 2-2V5c0-1.1-.9-2-2-2zM9 17H7v-7h2v7zm4 0h-2V7h2v10zm4 0h-2v-4h2v4z\"/>\n",
              "    </g>\n",
              "</svg>\n",
              "  </button>\n",
              "\n",
              "<style>\n",
              "  .colab-df-quickchart {\n",
              "      --bg-color: #E8F0FE;\n",
              "      --fill-color: #1967D2;\n",
              "      --hover-bg-color: #E2EBFA;\n",
              "      --hover-fill-color: #174EA6;\n",
              "      --disabled-fill-color: #AAA;\n",
              "      --disabled-bg-color: #DDD;\n",
              "  }\n",
              "\n",
              "  [theme=dark] .colab-df-quickchart {\n",
              "      --bg-color: #3B4455;\n",
              "      --fill-color: #D2E3FC;\n",
              "      --hover-bg-color: #434B5C;\n",
              "      --hover-fill-color: #FFFFFF;\n",
              "      --disabled-bg-color: #3B4455;\n",
              "      --disabled-fill-color: #666;\n",
              "  }\n",
              "\n",
              "  .colab-df-quickchart {\n",
              "    background-color: var(--bg-color);\n",
              "    border: none;\n",
              "    border-radius: 50%;\n",
              "    cursor: pointer;\n",
              "    display: none;\n",
              "    fill: var(--fill-color);\n",
              "    height: 32px;\n",
              "    padding: 0;\n",
              "    width: 32px;\n",
              "  }\n",
              "\n",
              "  .colab-df-quickchart:hover {\n",
              "    background-color: var(--hover-bg-color);\n",
              "    box-shadow: 0 1px 2px rgba(60, 64, 67, 0.3), 0 1px 3px 1px rgba(60, 64, 67, 0.15);\n",
              "    fill: var(--button-hover-fill-color);\n",
              "  }\n",
              "\n",
              "  .colab-df-quickchart-complete:disabled,\n",
              "  .colab-df-quickchart-complete:disabled:hover {\n",
              "    background-color: var(--disabled-bg-color);\n",
              "    fill: var(--disabled-fill-color);\n",
              "    box-shadow: none;\n",
              "  }\n",
              "\n",
              "  .colab-df-spinner {\n",
              "    border: 2px solid var(--fill-color);\n",
              "    border-color: transparent;\n",
              "    border-bottom-color: var(--fill-color);\n",
              "    animation:\n",
              "      spin 1s steps(1) infinite;\n",
              "  }\n",
              "\n",
              "  @keyframes spin {\n",
              "    0% {\n",
              "      border-color: transparent;\n",
              "      border-bottom-color: var(--fill-color);\n",
              "      border-left-color: var(--fill-color);\n",
              "    }\n",
              "    20% {\n",
              "      border-color: transparent;\n",
              "      border-left-color: var(--fill-color);\n",
              "      border-top-color: var(--fill-color);\n",
              "    }\n",
              "    30% {\n",
              "      border-color: transparent;\n",
              "      border-left-color: var(--fill-color);\n",
              "      border-top-color: var(--fill-color);\n",
              "      border-right-color: var(--fill-color);\n",
              "    }\n",
              "    40% {\n",
              "      border-color: transparent;\n",
              "      border-right-color: var(--fill-color);\n",
              "      border-top-color: var(--fill-color);\n",
              "    }\n",
              "    60% {\n",
              "      border-color: transparent;\n",
              "      border-right-color: var(--fill-color);\n",
              "    }\n",
              "    80% {\n",
              "      border-color: transparent;\n",
              "      border-right-color: var(--fill-color);\n",
              "      border-bottom-color: var(--fill-color);\n",
              "    }\n",
              "    90% {\n",
              "      border-color: transparent;\n",
              "      border-bottom-color: var(--fill-color);\n",
              "    }\n",
              "  }\n",
              "</style>\n",
              "\n",
              "  <script>\n",
              "    async function quickchart(key) {\n",
              "      const quickchartButtonEl =\n",
              "        document.querySelector('#' + key + ' button');\n",
              "      quickchartButtonEl.disabled = true;  // To prevent multiple clicks.\n",
              "      quickchartButtonEl.classList.add('colab-df-spinner');\n",
              "      try {\n",
              "        const charts = await google.colab.kernel.invokeFunction(\n",
              "            'suggestCharts', [key], {});\n",
              "      } catch (error) {\n",
              "        console.error('Error during call to suggestCharts:', error);\n",
              "      }\n",
              "      quickchartButtonEl.classList.remove('colab-df-spinner');\n",
              "      quickchartButtonEl.classList.add('colab-df-quickchart-complete');\n",
              "    }\n",
              "    (() => {\n",
              "      let quickchartButtonEl =\n",
              "        document.querySelector('#df-c53236f3-4260-4e2e-b687-5f26994666ab button');\n",
              "      quickchartButtonEl.style.display =\n",
              "        google.colab.kernel.accessAllowed ? 'block' : 'none';\n",
              "    })();\n",
              "  </script>\n",
              "</div>\n",
              "\n",
              "    </div>\n",
              "  </div>\n"
            ],
            "application/vnd.google.colaboratory.intrinsic+json": {
              "type": "dataframe",
              "summary": "{\n  \"name\": \"df\",\n  \"rows\": 3,\n  \"fields\": [\n    {\n      \"column\": \"artists\",\n      \"properties\": {\n        \"dtype\": \"string\",\n        \"num_unique_values\": 2,\n        \"samples\": [\n          \"Criolo\",\n          \"Limoblaze;Lecrae;Happi\"\n        ],\n        \"semantic_type\": \"\",\n        \"description\": \"\"\n      }\n    },\n    {\n      \"column\": \"album_name\",\n      \"properties\": {\n        \"dtype\": \"string\",\n        \"num_unique_values\": 3,\n        \"samples\": [\n          \"Jireh (My Provider)\",\n          \"Ainda H\\u00e1 Tempo\"\n        ],\n        \"semantic_type\": \"\",\n        \"description\": \"\"\n      }\n    },\n    {\n      \"column\": \"track_name\",\n      \"properties\": {\n        \"dtype\": \"string\",\n        \"num_unique_values\": 3,\n        \"samples\": [\n          \"Jireh (My Provider)\",\n          \"Ainda H\\u00e1 Tempo\"\n        ],\n        \"semantic_type\": \"\",\n        \"description\": \"\"\n      }\n    },\n    {\n      \"column\": \"popularity\",\n      \"properties\": {\n        \"dtype\": \"number\",\n        \"std\": 18,\n        \"min\": 28,\n        \"max\": 64,\n        \"num_unique_values\": 3,\n        \"samples\": [\n          64,\n          44\n        ],\n        \"semantic_type\": \"\",\n        \"description\": \"\"\n      }\n    },\n    {\n      \"column\": \"duration_ms\",\n      \"properties\": {\n        \"dtype\": \"number\",\n        \"std\": 85682,\n        \"min\": 168000,\n        \"max\": 318360,\n        \"num_unique_values\": 3,\n        \"samples\": [\n          168000,\n          318360\n        ],\n        \"semantic_type\": \"\",\n        \"description\": \"\"\n      }\n    },\n    {\n      \"column\": \"explicit\",\n      \"properties\": {\n        \"dtype\": \"category\",\n        \"num_unique_values\": 1,\n        \"samples\": [\n          \"0\"\n        ],\n        \"semantic_type\": \"\",\n        \"description\": \"\"\n      }\n    },\n    {\n      \"column\": \"danceability\",\n      \"properties\": {\n        \"dtype\": \"number\",\n        \"std\": 0.1827739952327282,\n        \"min\": 0.443,\n        \"max\": 0.805,\n        \"num_unique_values\": 3,\n        \"samples\": [\n          0.443\n        ],\n        \"semantic_type\": \"\",\n        \"description\": \"\"\n      }\n    },\n    {\n      \"column\": \"energy\",\n      \"properties\": {\n        \"dtype\": \"number\",\n        \"std\": 0.027153882472555093,\n        \"min\": 0.746,\n        \"max\": 0.8,\n        \"num_unique_values\": 3,\n        \"samples\": [\n          0.778\n        ],\n        \"semantic_type\": \"\",\n        \"description\": \"\"\n      }\n    },\n    {\n      \"column\": \"key\",\n      \"properties\": {\n        \"dtype\": \"number\",\n        \"std\": 3,\n        \"min\": 0,\n        \"max\": 6,\n        \"num_unique_values\": 3,\n        \"samples\": [\n          0\n        ],\n        \"semantic_type\": \"\",\n        \"description\": \"\"\n      }\n    },\n    {\n      \"column\": \"loudness\",\n      \"properties\": {\n        \"dtype\": \"number\",\n        \"std\": 1.3482330411814318,\n        \"min\": -7.564,\n        \"max\": -5.211,\n        \"num_unique_values\": 3,\n        \"samples\": [\n          -7.564\n        ],\n        \"semantic_type\": \"\",\n        \"description\": \"\"\n      }\n    },\n    {\n      \"column\": \"mode\",\n      \"properties\": {\n        \"dtype\": \"number\",\n        \"std\": 0,\n        \"min\": 0,\n        \"max\": 1,\n        \"num_unique_values\": 2,\n        \"samples\": [\n          1\n        ],\n        \"semantic_type\": \"\",\n        \"description\": \"\"\n      }\n    },\n    {\n      \"column\": \"speechiness\",\n      \"properties\": {\n        \"dtype\": \"number\",\n        \"std\": 0.08000208330620728,\n        \"min\": 0.185,\n        \"max\": 0.345,\n        \"num_unique_values\": 3,\n        \"samples\": [\n          0.266\n        ],\n        \"semantic_type\": \"\",\n        \"description\": \"\"\n      }\n    },\n    {\n      \"column\": \"acousticness\",\n      \"properties\": {\n        \"dtype\": \"number\",\n        \"std\": 0.024006943440041142,\n        \"min\": 0.238,\n        \"max\": 0.281,\n        \"num_unique_values\": 3,\n        \"samples\": [\n          0.241\n        ],\n        \"semantic_type\": \"\",\n        \"description\": \"\"\n      }\n    },\n    {\n      \"column\": \"instrumentalness\",\n      \"properties\": {\n        \"dtype\": \"number\",\n        \"std\": 0.0,\n        \"min\": 0.0,\n        \"max\": 0.0,\n        \"num_unique_values\": 1,\n        \"samples\": [\n          0.0\n        ],\n        \"semantic_type\": \"\",\n        \"description\": \"\"\n      }\n    },\n    {\n      \"column\": \"liveness\",\n      \"properties\": {\n        \"dtype\": \"number\",\n        \"std\": 0.08325390881714402,\n        \"min\": 0.0708,\n        \"max\": 0.215,\n        \"num_unique_values\": 2,\n        \"samples\": [\n          0.0708\n        ],\n        \"semantic_type\": \"\",\n        \"description\": \"\"\n      }\n    },\n    {\n      \"column\": \"valence\",\n      \"properties\": {\n        \"dtype\": \"number\",\n        \"std\": 0.1181115292142699,\n        \"min\": 0.483,\n        \"max\": 0.717,\n        \"num_unique_values\": 3,\n        \"samples\": [\n          0.628\n        ],\n        \"semantic_type\": \"\",\n        \"description\": \"\"\n      }\n    },\n    {\n      \"column\": \"tempo\",\n      \"properties\": {\n        \"dtype\": \"number\",\n        \"std\": 27.010675525305423,\n        \"min\": 81.303,\n        \"max\": 128.25,\n        \"num_unique_values\": 3,\n        \"samples\": [\n          128.25\n        ],\n        \"semantic_type\": \"\",\n        \"description\": \"\"\n      }\n    },\n    {\n      \"column\": \"time_signature\",\n      \"properties\": {\n        \"dtype\": \"number\",\n        \"std\": 0,\n        \"min\": 4,\n        \"max\": 5,\n        \"num_unique_values\": 2,\n        \"samples\": [\n          4\n        ],\n        \"semantic_type\": \"\",\n        \"description\": \"\"\n      }\n    },\n    {\n      \"column\": \"track_genre\",\n      \"properties\": {\n        \"dtype\": \"category\",\n        \"num_unique_values\": 1,\n        \"samples\": [\n          \"afrobeat\"\n        ],\n        \"semantic_type\": \"\",\n        \"description\": \"\"\n      }\n    }\n  ]\n}"
            }
          },
          "metadata": {},
          "execution_count": 5
        }
      ]
    },
    {
      "cell_type": "markdown",
      "id": "fourth-joint",
      "metadata": {
        "id": "fourth-joint"
      },
      "source": [
        "**C)** We used `train_test_split` to divide the processed `df` into 80% train, 20% test. Use the splitted datasets to train and test the Zero-R baseline model and report the accuracy. **[0.25 marks]** Provide an explanation for your results. **[0.25 marks]**"
      ]
    },
    {
      "cell_type": "markdown",
      "source": [
        "Answer: Zero-R predicts the most frequent class in the training data, thus it will apply the most common track_genre to the test data. The accuracy of 0.071 means\n",
        "that the most common track genre only accounts for about 7.1% of the data. For a varied dataset like Spotify.csv, the Zero-R classifier is not very good."
      ],
      "metadata": {
        "id": "PAozfcApFQPq"
      },
      "id": "PAozfcApFQPq"
    },
    {
      "cell_type": "code",
      "execution_count": null,
      "id": "07e3d435-af7a-4bd4-b481-f22b1c7550a2",
      "metadata": {
        "id": "07e3d435-af7a-4bd4-b481-f22b1c7550a2",
        "colab": {
          "base_uri": "https://localhost:8080/"
        },
        "outputId": "f11d8415-d11b-49a6-98bb-d0a5f8ea6004"
      },
      "outputs": [
        {
          "output_type": "stream",
          "name": "stdout",
          "text": [
            "Accuracy of the basement 0.072\n"
          ]
        }
      ],
      "source": [
        "X = df[df.columns.difference(['track_genre'])]\n",
        "y = df['track_genre']\n",
        "\n",
        "X_train, X_test, y_train, y_test = train_test_split(X, y, test_size=0.2, train_size=0.8, random_state=90049, shuffle=True, stratify=y)\n",
        "\n",
        "## your code here\n",
        "\n",
        "# C) Train and test zero-r baseline model\n",
        "# Train a Zero-R model.\n",
        "clf = DummyClassifier(strategy = \"most_frequent\")\n",
        "clf.fit(X_train, y_train)\n",
        "\n",
        "# Predict labels for the instances in the test set\n",
        "y_pred = clf.predict(X_test)\n",
        "\n",
        "# Calculate the accuracy of the model\n",
        "ZeroR_Acc = accuracy_score(y_test, y_pred)\n",
        "\n",
        "\n",
        "\n",
        "##########\n",
        "\n",
        "print(\"Accuracy of the basement\", ZeroR_Acc.round(3))"
      ]
    },
    {
      "cell_type": "markdown",
      "id": "21ec6a7b",
      "metadata": {
        "id": "21ec6a7b"
      },
      "source": [
        "## Question 2. Naive Bayes models [6.5 marks]\n",
        "\n",
        "In this part you need to use two Naive Bayes models \"Gaussian Naive Bayes\" and \"Multinominal Naive Bayes\". For both these models you need to deal with the three features that are not numeric (`artists`, `album_name` and `track_name`). We are going to run TWO experiments. For each experiment you need to Divide the `df` into 80% train and 20% test splits, using the stratification strategy. Set the `random_state` equal to `90049` and shuffle argumnet equal to `True`. Then, train and test for both models. Report the accuracy of your models.\n",
        "\n",
        "### Experiment 1.\n",
        "\n",
        "**A)** Remove the the features `artists`, `album_name` and `track_name` and use the other features to train and test the two Naive Bayes Model. Report the performance of the two models. **[1.5 marks]**\n",
        "\n",
        "**NOTE:** *You will need to find a solution to appropriately fix the issue of negative values for the \"Multinominal Naive Bayes\" model. Explain and justify the method you have used.*\n",
        "\n"
      ]
    },
    {
      "cell_type": "markdown",
      "source": [
        "Report on the perfomance of the two models:\n",
        "\n",
        "Accuracy of GNB using only numeric features: 0.38\n",
        "\n",
        "Accuracy of MNB using only numeric features: 0.386\n",
        "\n",
        "\n",
        "\n",
        "Answer:\n",
        "\n",
        "To fix the issue of negative values for the \"Multinomial Naive Bayes\" model, I used the MinMaxScaler to translate each feature individually such that it is in the given range on the training dataset - between zero and one. this was chosen as it is part of the sklearn package and simple to implement. Using np.abs() on X_train was considered, however the dataset is not in the correct data type for it."
      ],
      "metadata": {
        "id": "sBa3YczAz5W6"
      },
      "id": "sBa3YczAz5W6"
    },
    {
      "cell_type": "code",
      "execution_count": null,
      "id": "1ef637cf",
      "metadata": {
        "id": "1ef637cf",
        "colab": {
          "base_uri": "https://localhost:8080/"
        },
        "outputId": "1420cf2b-f7b3-444c-834f-823a68c4a7d6"
      },
      "outputs": [
        {
          "output_type": "stream",
          "name": "stdout",
          "text": [
            "Accuracy of GNB using only numeric features: 0.38\n",
            "Accuracy of MNB using only numeric features: 0.386\n"
          ]
        }
      ],
      "source": [
        "\n",
        "## your code here\n",
        "\n",
        "from sklearn.preprocessing import MinMaxScaler\n",
        "\n",
        "# remove the features artists, album_name and track_name\n",
        "X_new = X.drop(['artists', 'album_name', 'track_name'], axis=1)\n",
        "\n",
        "# use MinMaxScaler to fix th eissue of negative values for the MultinominalNB\n",
        "scaler = MinMaxScaler()\n",
        "X_new_positive = scaler.fit_transform(X_new)\n",
        "\n",
        "# train_test_split\n",
        "X_train_GNB, X_test_GNB, y_train, y_test = train_test_split(X_new, y, test_size=0.2, train_size=0.8, random_state=90049, shuffle=True, stratify=y)\n",
        "X_train_MNB, X_test_MNB, y_train, y_test = train_test_split(X_new_positive, y, test_size=0.2, train_size=0.8, random_state=90049, shuffle=True, stratify=y)\n",
        "\n",
        "# initialise\n",
        "gnb = GaussianNB()\n",
        "mnb = MultinomialNB()\n",
        "\n",
        "# train the model\n",
        "gnb.fit(X_train_GNB, y_train)\n",
        "mnb.fit(X_train_MNB, y_train)\n",
        "\n",
        "# Predict labels for the instances in the test set\n",
        "y_pred_GNB = gnb.predict(X_test_GNB)\n",
        "y_pred_MNB = mnb.predict(X_test_MNB)\n",
        "\n",
        "# Calculate the accuracy of the model\n",
        "GNB_Acc_1 = accuracy_score(y_test, y_pred_GNB)\n",
        "MNB_Acc_1 = accuracy_score(y_test, y_pred_MNB)\n",
        "\n",
        "\n",
        "#################\n",
        "\n",
        "print(\"Accuracy of GNB using only numeric features:\", GNB_Acc_1.round(3))\n",
        "print(\"Accuracy of MNB using only numeric features:\", MNB_Acc_1.round(3))\n"
      ]
    },
    {
      "cell_type": "markdown",
      "id": "compressed-check",
      "metadata": {
        "id": "compressed-check"
      },
      "source": [
        "### Experiment 2\n",
        "\n",
        "**B)** Transform features `artists`, `album_name` and `track_name` to numeric values using the `CountVectorizer` function. Use all the features (including the transformed ones) to train and test the two Naive Bayes Model. Report the performance of the two models. **[2 marks]**\n",
        "\n",
        "*NOTE: Running this code can be time consuming depending on your processing power.*\n"
      ]
    },
    {
      "cell_type": "markdown",
      "source": [
        "Report on the perfomance of the two models:\n",
        "\n",
        "Accuracy of GNB: 0.383\n",
        "\n",
        "Accuracy of MNB: 0.854"
      ],
      "metadata": {
        "id": "sqTJgTfTJHi2"
      },
      "id": "sqTJgTfTJHi2"
    },
    {
      "cell_type": "code",
      "execution_count": null,
      "id": "8e1c4411-d564-489c-ac1a-fc6c64d865f8",
      "metadata": {
        "id": "8e1c4411-d564-489c-ac1a-fc6c64d865f8",
        "colab": {
          "base_uri": "https://localhost:8080/"
        },
        "outputId": "e39a74e9-fa69-4337-9e17-6c2a08c67f15"
      },
      "outputs": [
        {
          "output_type": "stream",
          "name": "stdout",
          "text": [
            "Accuracy of GNB: 0.383\n",
            "Accuracy of MNB: 0.854\n"
          ]
        }
      ],
      "source": [
        "## your code here\n",
        "\n",
        "# Use vectorizer to convert to numeric\n",
        "vectorizer = CountVectorizer()\n",
        "artists = vectorizer.fit_transform(df['artists'])\n",
        "album_name = vectorizer.fit_transform(df['album_name'])\n",
        "track_name = vectorizer.fit_transform(df['track_name'])\n",
        "\n",
        "# store the arrays\n",
        "artists = artists.toarray()\n",
        "album_name = album_name.toarray()\n",
        "track_name = track_name.toarray()\n",
        "\n",
        "# combine with all numeric dataframe.\n",
        "X_vectorized = np.concatenate((X_new, artists, album_name, track_name), axis=1)\n",
        "\n",
        "# as with before:\n",
        "# use MinMaxScaler to fix the issue of negative values for the MultinominalNB\n",
        "scaler = MinMaxScaler()\n",
        "X_vectorized_positive = scaler.fit_transform(X_vectorized)\n",
        "\n",
        "# train_test_split\n",
        "X_train_GNB, X_test_GNB, y_train, y_test = train_test_split(X_vectorized, y, test_size=0.2, train_size=0.8, random_state=90049, shuffle=True, stratify=y)\n",
        "X_train_MNB, X_test_MNB, y_train, y_test = train_test_split(X_vectorized_positive, y, test_size=0.2, train_size=0.8, random_state=90049, shuffle=True, stratify=y)\n",
        "\n",
        "# initialise\n",
        "gnb = GaussianNB()\n",
        "mnb = MultinomialNB()\n",
        "\n",
        "# train the model\n",
        "gnb.fit(X_train_GNB, y_train)\n",
        "mnb.fit(X_train_MNB, y_train)\n",
        "\n",
        "# Predict labels for the instances in the test set\n",
        "y_pred_GNB = gnb.predict(X_test_GNB)\n",
        "y_pred_MNB = mnb.predict(X_test_MNB)\n",
        "\n",
        "# Calculate the accuracy of the model\n",
        "GNB_Acc_2 = accuracy_score(y_test, y_pred_GNB)\n",
        "MNB_Acc_2 = accuracy_score(y_test, y_pred_MNB)\n",
        "\n",
        "\n",
        "###################\n",
        "\n",
        "print(\"Accuracy of GNB:\", GNB_Acc_2.round(3))\n",
        "print(\"Accuracy of MNB:\", MNB_Acc_2.round(3))\n",
        "\n"
      ]
    },
    {
      "cell_type": "markdown",
      "id": "hidden-information",
      "metadata": {
        "id": "hidden-information"
      },
      "source": [
        "**C)** The two Naive Bayes (NB) classifiers in experiments 1 and 2 showed different performances. Explain in your words what is the reason for these differences in this dataset. Your answer should include the following parts (Limit your answer to maximum 200 words for each section):\n",
        "- Compare the results of MNB and GNB in Experiment 1 and explain your observation. **[0.5 marks]**\n",
        "- Compare the results of MNB and GNB in Experiment 2 and explain your observation.  **[0.5 marks]**\n",
        "- Compare the results of MNB and GNB from Experiment 1 to Experiment 2 **[0.5 marks]**"
      ]
    },
    {
      "cell_type": "markdown",
      "id": "952198e3-c56c-4a42-8676-baca55e553c5",
      "metadata": {
        "id": "952198e3-c56c-4a42-8676-baca55e553c5"
      },
      "source": [
        "1. Compare the results of MNB and GNB in Experiment 1 and explain your observation.\n",
        "\n",
        "After testing in Experiment 1, the 2 models achieved a similar accuracy to each other. The Multinomial Naive Bayes (MNB) model produced the higher accuracy of 38.6% compared to 38.0% of the Gaussian Naive Bayes (GNB). This is expected due to the complex nature of the dataset. This could mean that the dataset is a marginally better fit for a multinomial distribution than a gaussian distribution. This makes sense as the data has features that may follow a normal distribution such as popularity, but also features that can be counted such as duration.\n",
        "It should also be noted that it is a big improvement on the Zero-R model's accuracy.\n",
        "\n",
        "\n",
        "\n",
        "2. Compare the results of MNB and GNB in Experiment 2 and explain your observation.\n",
        "\n",
        "In Experiment 2, the Gaussian Naive Bayes model produced a lower accuracy than the Multinomial model. The gaussian accuracy was 38.3%, while the multinomial's accuracy was much higher at 85.4%, thus the latter is the better choice on this dataset.\n",
        "\n",
        "This is also likely due to how the gaussian model is more suited for data that follows a normal distribution, while the multinomial model is better for  data that can be counted. Specifically introducing the discrete features of artist, album name, and track name made the multinomial model much more accurate.\n",
        "\n",
        "3. Compare the results of MNB and GNB from Experiment 1 to Experiment 2.\n",
        "\n",
        "For GNB, results were very similar between the two experiments. 38% compared to 38.3%. The increase could be due to the addition of 3 more features to work with, however the discrete nature of these features meant that they were of minimal help.\n",
        "\n",
        "For MNB, the accuracy was significantly higher for experiment 2. The introduction of the numeric representation for artists, album and track name greatly benefited this model as it is more suited to this type of data and the accuracy rose from 38.6% to 85.4%.\n",
        "\n"
      ]
    },
    {
      "cell_type": "markdown",
      "id": "917a0465-4e4b-4442-b2d8-4a9823ffc747",
      "metadata": {
        "id": "917a0465-4e4b-4442-b2d8-4a9823ffc747"
      },
      "source": [
        "**D)** Propose a method to enhance the performance of the \"Multinomial Naive Bayes\" model by adjusting its hyperparameters? **[0.5 marks]** Provide a rationale for your proposed solution and present two supporting reasons if applicable. **[1 mark]** (Limit your answer to maximum 200 words)\n",
        "\n",
        "*NOTE: You may opt to design a test code to validate your hypothesis regarding the potential enhancement in model performance. However, this coding part is optional.*"
      ]
    },
    {
      "cell_type": "markdown",
      "id": "bbce9eca-32a2-4276-93f3-9010c0ac8005",
      "metadata": {
        "id": "bbce9eca-32a2-4276-93f3-9010c0ac8005"
      },
      "source": [
        "Answer:\n",
        "\n",
        "A method to enhance the performance of the \"Multinomial Naive Bayes\" model is by adjusting its smoothing hyperparameter. For MultinomialNB in sklearn, this is the alpha parameter. By default alpha = 1, meaning it is performing add 1 smoothing. This is good for avoiding the problem of zero probabilities in the data, however it may be possible to further enhance the model's performance by adjusting alpha. Alpha can be increased to an optimised value that will reduce variance and avoid overfitting, while not underfitting. Thus, adjusting the smoothing or 'alpha' parameter is a potential method."
      ]
    },
    {
      "cell_type": "markdown",
      "id": "7de4822d",
      "metadata": {
        "id": "7de4822d"
      },
      "source": [
        "## Question 3. Decision Tree [4 marks]\n",
        "### Experiment 3\n",
        "**A)** For the dataset utilized in Experiment 1, which includes all features except `artists`, `album_name`, and `track_name`, replicate the experiment with a Decision Tree classifier using a random state of `2024`. Employ the `Information Gain` as the criterion for splitting. **[0.5 Marks]**"
      ]
    },
    {
      "cell_type": "markdown",
      "source": [
        "Report:\n",
        "\n",
        "Accuracy of DT: 0.595"
      ],
      "metadata": {
        "id": "mDHPC81LZnUO"
      },
      "id": "mDHPC81LZnUO"
    },
    {
      "cell_type": "code",
      "execution_count": null,
      "id": "0859a139",
      "metadata": {
        "id": "0859a139",
        "colab": {
          "base_uri": "https://localhost:8080/"
        },
        "outputId": "21203135-6180-4c9a-ed88-81f7ab120a6b"
      },
      "outputs": [
        {
          "output_type": "stream",
          "name": "stdout",
          "text": [
            "Accuracy of DT: 0.595\n",
            "Root: acousticness\n",
            "Left child: loudness\n",
            "Right child: loudness\n"
          ]
        }
      ],
      "source": [
        "## your code here\n",
        "X_train, X_test, y_train, y_test = train_test_split(X_new, y, test_size=0.2, train_size=0.8, random_state=90049, shuffle=True, stratify=y)\n",
        "\n",
        "# Initialise\n",
        "dt = DecisionTreeClassifier(criterion='entropy', random_state=2024)\n",
        "\n",
        "# Train\n",
        "dt.fit(X_train, y_train)\n",
        "\n",
        "# Predict labels for the instances in the test set\n",
        "y_pred_DT = dt.predict(X_test)\n",
        "\n",
        "# Calculate the accuracy of the model\n",
        "DT_Acc_1 = accuracy_score(y_test, y_pred_DT)\n",
        "\n",
        "\n",
        "print(\"Accuracy of DT:\", DT_Acc_1.round(3))\n",
        "\n",
        "# Report the root and first two children\n",
        "root = X.columns[dt.tree_.feature[0]]\n",
        "left_node = X.columns[dt.tree_.feature[dt.tree_.children_left[0]]]\n",
        "right_node = X.columns[dt.tree_.feature[dt.tree_.children_right[0]]]\n",
        "\n",
        "\n",
        "print(\"Root:\", root)\n",
        "print(\"Left child:\", left_node)\n",
        "print(\"Right child:\", right_node)"
      ]
    },
    {
      "cell_type": "markdown",
      "id": "1ec23544-7567-4efd-b494-6670a731fdd8",
      "metadata": {
        "id": "1ec23544-7567-4efd-b494-6670a731fdd8"
      },
      "source": [
        "**B)** Report the root and first two children (root node's right and left nodes) for this Decision Tree. **[0.75 marks]** Explain your findings. **[0.75 marks]**"
      ]
    },
    {
      "cell_type": "markdown",
      "id": "9f3287a1-3d47-4ced-b9a3-2b05921e9c20",
      "metadata": {
        "id": "9f3287a1-3d47-4ced-b9a3-2b05921e9c20"
      },
      "source": [
        "Report the root and first two children:\n",
        "\n",
        "The root is 'acousticness'. The first two children are both 'loudness'.\n",
        "\n",
        "Explain your findings:\n",
        "\n",
        "This means that the acousticness feature had the highest information gain and was chosen as the splitting feature for the root node. Similarly, it mean that loudness was the most informative for the next split. So, loudness can be said to be the most predictive withing the subsets of the acoustiness split. For estimating track_genre, it suggets that the combination of acousticness and loudness is the most important determiner."
      ]
    },
    {
      "cell_type": "markdown",
      "id": "e6bc4ac3-0edd-40e3-a094-74383801d4db",
      "metadata": {
        "id": "e6bc4ac3-0edd-40e3-a094-74383801d4db"
      },
      "source": [
        "### Experiment 4\n",
        "\n",
        "**C)** For the dataset utilized in Experiment 2, which includes all features, replicate the experiment with a Decision Tree classifier using a random state of `2024`. Employ the `Information Gain` as the criterion for splitting. **[0.5 Marks]**"
      ]
    },
    {
      "cell_type": "markdown",
      "source": [
        "Report:\n",
        "\n",
        "Accuracy of DT: 0.63\n"
      ],
      "metadata": {
        "id": "Hqga_u_dXCKK"
      },
      "id": "Hqga_u_dXCKK"
    },
    {
      "cell_type": "code",
      "execution_count": null,
      "id": "84191bca-b2e3-4be9-bdb5-015358d17d46",
      "metadata": {
        "id": "84191bca-b2e3-4be9-bdb5-015358d17d46",
        "colab": {
          "base_uri": "https://localhost:8080/"
        },
        "outputId": "6bcf2152-062b-4ddf-b13f-468ccbeea6f7"
      },
      "outputs": [
        {
          "output_type": "stream",
          "name": "stdout",
          "text": [
            "Accuracy of DT: 0.63\n"
          ]
        }
      ],
      "source": [
        "\n",
        "## your code here\n",
        "\n",
        "# Use vectorizer to convert to numeric\n",
        "vectorizer = CountVectorizer()\n",
        "artists = vectorizer.fit_transform(df['artists'])\n",
        "album_name = vectorizer.fit_transform(df['album_name'])\n",
        "track_name = vectorizer.fit_transform(df['track_name'])\n",
        "\n",
        "# store the arrays\n",
        "artists = artists.toarray()\n",
        "album_name = album_name.toarray()\n",
        "track_name = track_name.toarray()\n",
        "\n",
        "# combine with all numeric dataframe.\n",
        "X_vectorized = np.concatenate((X_new, artists, album_name, track_name), axis=1)\n",
        "\n",
        "\n",
        "# Train_test_split\n",
        "X_train, X_test, y_train, y_test = train_test_split(X_vectorized, y, test_size=0.2, train_size=0.8, random_state=90049, shuffle=True, stratify=y)\n",
        "\n",
        "# Initialise\n",
        "dt = DecisionTreeClassifier(criterion='entropy', random_state=2024)\n",
        "\n",
        "# Train\n",
        "dt.fit(X_train, y_train)\n",
        "\n",
        "# Predict labels for the instances in the test set\n",
        "y_pred_DT = dt.predict(X_test)\n",
        "\n",
        "# Calculate the accuracy of the model\n",
        "DT_Acc_2 = accuracy_score(y_test, y_pred_DT)\n",
        "\n",
        "\n",
        "################\n",
        "\n",
        "print(\"Accuracy of DT:\", DT_Acc_2.round(3))\n"
      ]
    },
    {
      "cell_type": "markdown",
      "id": "7a7331aa-288b-4327-b72c-0f1a087e1f8b",
      "metadata": {
        "id": "7a7331aa-288b-4327-b72c-0f1a087e1f8b"
      },
      "source": [
        "**D)** Perform Feature Selection strategically to maximize the accuracy of the Decision Tree classifier using a random state of `2024` and `Information Gain` as the splitting criterion. **[1 Marks]**"
      ]
    },
    {
      "cell_type": "markdown",
      "source": [
        "answer:\n",
        "\n",
        "Accuracy of original DT: 0.63\n",
        "\n",
        "Accuracy of artists and album_name: 0.775\n",
        "\n",
        "Accuracy of only artists: 0.871\n",
        "\n",
        "Accuracy of artists and acousticness 0.491"
      ],
      "metadata": {
        "id": "OPFXq5uJO8K6"
      },
      "id": "OPFXq5uJO8K6"
    },
    {
      "cell_type": "code",
      "execution_count": null,
      "id": "5058d84b-58db-4852-a1ec-552bf9e88c03",
      "metadata": {
        "id": "5058d84b-58db-4852-a1ec-552bf9e88c03",
        "colab": {
          "base_uri": "https://localhost:8080/"
        },
        "outputId": "9d11594c-ee08-448b-8fc0-49eda34612f8"
      },
      "outputs": [
        {
          "output_type": "stream",
          "name": "stdout",
          "text": [
            "Accuracy of original DT: 0.63\n",
            "Accuracy of artists and album_name: 0.775\n",
            "Accuracy of only artists: 0.871\n",
            "Accuracy of artists and acousticness 0.491\n"
          ]
        }
      ],
      "source": [
        "## your code here\n",
        "\n",
        "# vectorizer declaration repeated because I needed to run this code\n",
        "# directly after running the code up to but not including Q2 Experiment 2 due\n",
        "# to ram limits in Colaboratory.\n",
        "\n",
        "# Use vectorizer to convert to numeric\n",
        "vectorizer = CountVectorizer()\n",
        "artists = vectorizer.fit_transform(df['artists'])\n",
        "album_name = vectorizer.fit_transform(df['album_name'])\n",
        "track_name = vectorizer.fit_transform(df['track_name'])\n",
        "\n",
        "# Store the arrays\n",
        "artists = artists.toarray()\n",
        "album_name = album_name.toarray()\n",
        "track_name = track_name.toarray()\n",
        "\n",
        "\n",
        "\n",
        "##\n",
        "## album_name and artists\n",
        "##\n",
        "# Combine\n",
        "X_aa = np.concatenate((artists, album_name), axis=1)\n",
        "# Train_test_split\n",
        "X_train_aa, X_test_aa, y_train, y_test = train_test_split(X_aa, y, test_size=0.2, train_size=0.8, random_state=90049, shuffle=True, stratify=y)\n",
        "# Initialise\n",
        "dt = DecisionTreeClassifier(criterion='entropy', random_state=2024)\n",
        "# Train\n",
        "dt.fit(X_train_aa, y_train)\n",
        "# Predict labels for the instances in the test set\n",
        "y_pred_DT_aa = dt.predict(X_test_aa)\n",
        "# Calculate the accuracy of the model\n",
        "DT_Acc_aa = accuracy_score(y_test, y_pred_DT_aa)\n",
        "\n",
        "\n",
        "\n",
        "##\n",
        "# artists only\n",
        "##\n",
        "# Rest as before but modified for artists only:\n",
        "X_train_artists, X_test_artists, y_train, y_test = train_test_split(artists, y, test_size=0.2, train_size=0.8, random_state=90049, shuffle=True, stratify=y)\n",
        "dt.fit(X_train_artists, y_train)\n",
        "y_pred_DT_artists = dt.predict(X_test_artists)\n",
        "DT_Acc_artists = accuracy_score(y_test, y_pred_DT_artists)\n",
        "\n",
        "\n",
        "\n",
        "##\n",
        "# artists, acousticness, and loudness\n",
        "##\n",
        "\n",
        "# Select features\n",
        "df_selected = df[['acousticness']]\n",
        "# Combine selected features with numeric artists and album_name\n",
        "X_selected = np.concatenate((df_selected, artists), axis=1)\n",
        "# Rest as before but for x_selected:\n",
        "X_train_select, X_test_select, y_train, y_test = train_test_split(X_selected, y, test_size=0.2, train_size=0.8, random_state=90049, shuffle=True, stratify=y)\n",
        "dt.fit(X_train_select, y_train)\n",
        "y_pred_DT_select = dt.predict(X_test_select)\n",
        "DT_Acc_select = accuracy_score(y_test, y_pred_DT_select)\n",
        "\n",
        "###################\n",
        "\n",
        "print(\"Accuracy of original DT: 0.63\")\n",
        "\n",
        "print(\"Accuracy of artists and album_name:\", DT_Acc_aa.round(3))\n",
        "\n",
        "print(\"Accuracy of only artists:\", DT_Acc_artists.round(3))\n",
        "\n",
        "print(\"Accuracy of artists and acousticness\", DT_Acc_select.round(3))\n"
      ]
    },
    {
      "cell_type": "markdown",
      "id": "89f0f2d9-73c9-4013-92ce-12c3aeef64ef",
      "metadata": {
        "id": "89f0f2d9-73c9-4013-92ce-12c3aeef64ef"
      },
      "source": [
        "**E)** In your own words, explain why you think the modification you proposed in part **D** has improved the accuracy of your Decision Tree classifier. Provide ONE possible reason. **[0.5 marks]** (Limit your answer to maximum 200 words)"
      ]
    },
    {
      "cell_type": "markdown",
      "id": "2cd84c84-0057-4145-9140-d9604215d418",
      "metadata": {
        "id": "2cd84c84-0057-4145-9140-d9604215d418"
      },
      "source": [
        "My approach and hypothesis to this question is to think generally about the task at hand. Intuitively, an artist or album is directly associated with a genre. For example, people know that Justin Bieber is a pop artist, and AC/DC is a rock artist. Similarly, albums are associated with genres too, eg. 1989 is a pop album. After testing this hypothesis, it was found training the decision tree classifier on only the artists feature maximised it's accuracy.\n",
        "\n",
        "Using the features with highest information gain from experiment 3 part A and combining it with artists was also considered, but artists and acousticness did not maximise the accuracy\n",
        "\n",
        "As introduced earlier, one possible reason is because artists usually create all their songs within the same genre and rarely cross to other genres, thus being a better predictor of track_genre."
      ]
    },
    {
      "cell_type": "markdown",
      "id": "8357cd59",
      "metadata": {
        "id": "8357cd59"
      },
      "source": [
        "## Question 4. Evaluation [7 marks]"
      ]
    },
    {
      "cell_type": "markdown",
      "id": "f20e33cb-5d3d-45ed-9221-b25da3b04f18",
      "metadata": {
        "id": "f20e33cb-5d3d-45ed-9221-b25da3b04f18"
      },
      "source": [
        "**A)** For Decision Tree in Experiment 4 part C, visualize the Confusion Matrix using the `ConfusionMatrixDisplay` method and identify the `track_genre` with the lowest and highest True Positive (TP) values. **[0.5 Marks]** Provide a discussion on intutive reasons of disparities in the outcomes associated with different genres. **[0.5 Marks]** (Limit your answer to maximum 200-300 words)"
      ]
    },
    {
      "cell_type": "markdown",
      "id": "2f0ad621-cd24-4bd1-8018-63f38563bd36",
      "metadata": {
        "id": "2f0ad621-cd24-4bd1-8018-63f38563bd36"
      },
      "source": [
        "Answer:\n",
        "\n",
        "The track genre with the lowest TP value is Blues and the track genre with the highest TP value is Tango.\n",
        "\n",
        "Each genre of music is defined by a variety of factors such as tempo, instruments used, and geographical origin. Some of these factors are captured as features in the dataset, while others are missing. Intuitively, the model will perform better on genres that can be clearly defined by the features in the dataset, such as tempo, acousticness, and/or speechiness. For example, tango music is rythmic and features specific time signatures which are recognisable. This would be make it easier for the model to classify the genre. As a result, a higher TP is seen for Tango.\n",
        "\n",
        "Some genres take inspiration from another genre and can have similar characteristics. With just the features in the dataset, it may be difficlt to categorise these songs. For example, blues has actually influenced many other genres in music and is the basis for jazz, rock and many pop songs. So, it may be more difficlt to recognise when a song is blues, rock or pop.\n",
        "\n",
        "Another reason for the disparity in TP values could be that some genres have more representation in the data than others, so the model has more instances to learn from for that genre. This would negatively affect the genres that occur less frequently in the dataset.\n",
        "\n",
        "Distinctive and highly represented genres have higher TP while genres with high cross-genre influence and less instances have lower TP. These are the intuitive reasons for disparities between the outcomes of different genres."
      ]
    },
    {
      "cell_type": "code",
      "execution_count": null,
      "id": "52433b33-b753-4cc2-9072-e45dc6eb3ba9",
      "metadata": {
        "id": "52433b33-b753-4cc2-9072-e45dc6eb3ba9",
        "colab": {
          "base_uri": "https://localhost:8080/",
          "height": 839
        },
        "outputId": "42e733f0-de93-426f-ea95-5846d5b280e2"
      },
      "outputs": [
        {
          "output_type": "display_data",
          "data": {
            "text/plain": [
              "<Figure size 640x480 with 2 Axes>"
            ],
            "image/png": "[encoded data removed]"
          },
          "metadata": {}
        },
        {
          "output_type": "display_data",
          "data": {
            "text/plain": [
              "<Figure size 600x400 with 2 Axes>"
            ],
            "image/png": "[encoded data removed]"
          },
          "metadata": {}
        }
      ],
      "source": [
        "## your code here\n",
        "\n",
        "# Calculate the confusion matrix\n",
        "cm = confusion_matrix(y_test, y_pred_DT)\n",
        "\n",
        "# Confusion Matrix Display\n",
        "cm_display = ConfusionMatrixDisplay(cm).plot()\n",
        "\n",
        "# Create a visualization of the confusion matrix using a heatmap\n",
        "plt.figure(figsize=(6, 4))\n",
        "plt.imshow(cm, interpolation='nearest', cmap=plt.cm.Blues)\n",
        "plt.title('Confusion Matrix')\n",
        "plt.colorbar()\n",
        "tick_marks = np.arange(len(np.unique(y_test)))\n",
        "plt.xticks(tick_marks, np.unique(y_test), rotation=45)\n",
        "plt.yticks(tick_marks, np.unique(y_test))\n",
        "plt.xlabel('Predicted')\n",
        "plt.ylabel('Actual')\n",
        "\n",
        "# Adding annotations to the heatmap\n",
        "thresh = cm.max() / 2.0\n",
        "for i in range(cm.shape[0]):\n",
        "    for j in range(cm.shape[1]):\n",
        "        plt.text(j, i, format(cm[i, j], 'd'),\n",
        "                 horizontalalignment=\"center\",\n",
        "                 color=\"white\" if cm[i, j] > thresh else \"black\")\n",
        "\n",
        "plt.tight_layout()\n",
        "plt.show()\n",
        "\n"
      ]
    },
    {
      "cell_type": "markdown",
      "id": "a2f2680b-08f9-4a29-a31f-971b43b08825",
      "metadata": {
        "tags": [],
        "id": "a2f2680b-08f9-4a29-a31f-971b43b08825"
      },
      "source": [
        "**B)** In Experiment 2, part C, for both the Multinomial Naive Bayes and Gaussian Naive Bayes models, provide the following values: **[2 marks]**\n",
        "- **1.** What is the probability that a track that is an \"techno\" genre is identified by the model as an \"techno\" genre?\n",
        "- **2.** What is the probability that if a track is identified by the model as \"techno\", it is in fact a \"techno\" genre track?"
      ]
    },
    {
      "cell_type": "markdown",
      "source": [
        "Report:\n",
        "\n",
        "Part 1: What is the probability that a track that is an techno genre is identified by the model as an techno genre?\n",
        "\n",
        "Probability value for GNB 0.307\n",
        "\n",
        "Probability value for MNB 0.772\n",
        "\n",
        "\n",
        "\n",
        "Part 2: What is the probability that if a track is identified by the model as techno, it is in fact a techno genre track?\n",
        "\n",
        "Probability value for GNB 0.476\n",
        "\n",
        "Probability value for MNB 0.874"
      ],
      "metadata": {
        "id": "NU528rVlMrJO"
      },
      "id": "NU528rVlMrJO"
    },
    {
      "cell_type": "code",
      "execution_count": null,
      "id": "50095325-e33b-4a3b-9faf-382f95d34d34",
      "metadata": {
        "tags": [],
        "id": "50095325-e33b-4a3b-9faf-382f95d34d34",
        "colab": {
          "base_uri": "https://localhost:8080/"
        },
        "outputId": "36b1fdc5-d8c2-4524-a242-11e2ef117c2d"
      },
      "outputs": [
        {
          "output_type": "stream",
          "name": "stdout",
          "text": [
            "Part 1: What is the probability that a track that is an techno genre is identified by the model as an techno genre?\n",
            "Probability value for GNB 0.307\n",
            "Probability value for MNB 0.772\n",
            "\n",
            "\n",
            "Part 2: What is the probability that if a track is identified by the model as techno, it is in fact a techno genre track?\n",
            "Probability value for GNB 0.476\n",
            "Probability value for MNB 0.874\n"
          ]
        }
      ],
      "source": [
        "## your code here\n",
        "\n",
        "########################\n",
        "## Please run question 2 part B directly before running this.\n",
        "########################\n",
        "\n",
        "\n",
        "##\n",
        "## Part 1: Among the actual techno tracks, how often are they correctly identified as techno?\n",
        "##\n",
        "\n",
        "# Get the predict_proba probability distribution for each song\n",
        "gnb_proba = gnb.predict_proba(X_test_GNB)\n",
        "mnb_proba = mnb.predict_proba(X_test_MNB)\n",
        "\n",
        "# Get the locations of techno songs in the dataset by\n",
        "# getting the locations of techno in the test set\n",
        "locations_nb = np.where(y_test == 'techno')\n",
        "\n",
        "# Take only the probability distributions of songs that are actually techno\n",
        "techno_probabilities_gnb = gnb_proba[locations_nb]\n",
        "techno_probabilities_mnb = mnb_proba[locations_nb]\n",
        "\n",
        "# Within the probability distribution for a song, the track_genres are arranged in alphabetical order.\n",
        "# Use classes_ to find the index of techno within the probability distributions.\n",
        "index = list(gnb.classes_).index('techno')\n",
        "\n",
        "# For actual the tracks that actually is techno, remove the probabilites of them being other genres,\n",
        "# leaving only question 4B.1 - the probability that a track that is an \"techno\" genre is identified by the model as an \"techno\" genre.\n",
        "# Get all rows in the 'index' column.\n",
        "is_techno_as_techno_gnb = techno_probabilities_gnb[:, index]\n",
        "is_techno_as_techno_mnb = techno_probabilities_mnb[:, index]\n",
        "\n",
        "# Average the probabilites\n",
        "print (\"Part 1: What is the probability that a track that is an techno genre is identified by the model as an techno genre?\")\n",
        "print(\"Probability value for GNB\", is_techno_as_techno_gnb.mean().round(3))\n",
        "print(\"Probability value for MNB\", is_techno_as_techno_mnb.mean().round(3))\n",
        "print (\"\\n\")\n",
        "\n",
        "################\n",
        "\n",
        "##\n",
        "## Part 2: Among all the tracks that the model identifies to be techno, how many are actually techno?\n",
        "##\n",
        "\n",
        "# Needed to be converted to numpy array\n",
        "y_test_array = y_test.values\n",
        "\n",
        "# Get the locations where the model identifies songs as techno\n",
        "locations_gnb = np.where(y_pred_GNB=='techno')\n",
        "locations_mnb = np.where(y_pred_MNB=='techno')\n",
        "\n",
        "# Get the actual genre for these locations where the model identifies songs as techno\n",
        "actual_genre_gnb = y_test_array[locations_gnb]\n",
        "actual_genre_mnb = y_test_array[locations_mnb]\n",
        "\n",
        "# Store the which locations were correctly identified as techno in a boolean array.\n",
        "is_techno_gnb = actual_genre_gnb == 'techno'\n",
        "is_techno_mnb = actual_genre_mnb == 'techno'\n",
        "\n",
        "\n",
        "# Count number of times where the model identifies the track to be techno and it was actually techno\n",
        "correctly_identify_count_gnb = np.count_nonzero(is_techno_gnb)\n",
        "correctly_identify_count_mnb = np.count_nonzero(is_techno_mnb)\n",
        "\n",
        "# Calculate probabilities by dividing.\n",
        "# Numerator: the number of times techno is correctly identified\n",
        "# Denominator: the total number of times techno is indentified\n",
        "as_techno_is_techno_gnb = correctly_identify_count_gnb / len(locations_gnb[0])\n",
        "as_techno_is_techno_mnb = correctly_identify_count_mnb / len(locations_mnb[0])\n",
        "\n",
        "# Print the probabilities\n",
        "\n",
        "gnb_rounded = str(round(as_techno_is_techno_gnb, 3))\n",
        "mnb_rounded = str(round(as_techno_is_techno_mnb, 3))\n",
        "\n",
        "print (\"Part 2: What is the probability that if a track is identified by the model as techno, it is in fact a techno genre track?\")\n",
        "print(\"Probability value for GNB\", gnb_rounded)\n",
        "print(\"Probability value for MNB\", mnb_rounded)\n",
        "\n",
        "\n",
        "################"
      ]
    },
    {
      "cell_type": "markdown",
      "id": "cb710150-215c-44f9-9977-48244a72f262",
      "metadata": {
        "id": "cb710150-215c-44f9-9977-48244a72f262"
      },
      "source": [
        "**C)** Comment on different behaviour of GNB and MNB for predicting 'techno' genre? **[1.5 marks]** Which model is performing better for this feature. Justify your answer.  **[1 mark]** (Limit your answer to maximum 200-300 words)"
      ]
    },
    {
      "cell_type": "markdown",
      "id": "63d70693-53ef-47b1-904b-246627aa1c1e",
      "metadata": {
        "id": "63d70693-53ef-47b1-904b-246627aa1c1e"
      },
      "source": [
        "Answer:\n",
        "\n",
        "In the above tests, it can be seen that MNB was more successful than GNB in finding the probability that a track that is a techno genre is identified by the model as a techno genre. MNB was also more successful at finding the probability that if a track is identified by the model as techno, it is in fact a techno genre track. Additionally, MNB was better at predicting the latter, at 0.874 compared to 0.772 for part 1.\n",
        "\n",
        "In both these scenarios, the MNB model performed significantly better for the feature of techno. GNB makes an assumption that the features used to predict the techno genre is gaussian. This likely works against it as the features used more represent discrete values, thus favouring MNB."
      ]
    },
    {
      "cell_type": "markdown",
      "id": "15a06a2b-8f99-499e-b4d8-ed70d4c68730",
      "metadata": {
        "id": "15a06a2b-8f99-499e-b4d8-ed70d4c68730"
      },
      "source": [
        "**D)** For your Decision Tree in expeiment 4 part C, report the following values: **[0.5 marks]**\n",
        "- What is the probability that a track that is an \"techno\" genre is identified by the model as an \"techno\" genre?\n",
        "- What is the probability that if a track is identified by the model as \"techno\", it is in fact a \"techno\" genre track?"
      ]
    },
    {
      "cell_type": "markdown",
      "source": [
        "Answer:\n",
        "\n",
        "Part 1: What is the probability that a track that is an techno genre is identified by the model as an techno genre?\n",
        "\n",
        "Probability value for Decision Tree 0.626\n",
        "\n",
        "\n",
        "\n",
        "Part 2: What is the probability that if a track is identified by the model as techno, it is in fact a techno genre track?\n",
        "\n",
        "Probability value for Decision Tree 0.643"
      ],
      "metadata": {
        "id": "YKa2FCarZ5ma"
      },
      "id": "YKa2FCarZ5ma"
    },
    {
      "cell_type": "code",
      "execution_count": null,
      "id": "23397207-65b2-4777-99cc-43d8af4f0360",
      "metadata": {
        "id": "23397207-65b2-4777-99cc-43d8af4f0360",
        "colab": {
          "base_uri": "https://localhost:8080/"
        },
        "outputId": "1b6ba3ee-33b9-447c-d286-0c3785aa7814"
      },
      "outputs": [
        {
          "output_type": "stream",
          "name": "stdout",
          "text": [
            "Part 1: What is the probability that a track that is an techno genre is identified by the model as an techno genre?\n",
            "Probability value for Decision Tree 0.626\n",
            "\n",
            "\n",
            "Part 2: What is the probability that if a track is identified by the model as techno, it is in fact a techno genre track?\n",
            "Probability value for Decision Tree 0.643\n"
          ]
        }
      ],
      "source": [
        "# your code here\n",
        "\n",
        "########################\n",
        "## Please run question 4 part C directly before running this.\n",
        "########################\n",
        "\n",
        "# Predict labels for the instances in the test set\n",
        "dt_proba = dt.predict_proba(X_test)\n",
        "\n",
        "# Get the locations of techno songs in the dataset by\n",
        "# getting the locations of techno in the test set\n",
        "locations = np.where(y_test == 'techno')\n",
        "\n",
        "# Take only the probability distributions of songs that are actually techno\n",
        "techno_probabilities_dt = dt_proba[locations]\n",
        "\n",
        "# Within the probability distribution for a song, the track_genres are arranged in alphabetical order.\n",
        "# Use classes_ to find the index of techno within the probability distributions.\n",
        "index = list(dt.classes_).index('techno')\n",
        "\n",
        "# For actual the tracks that actually is techno, remove the probabilites of them being other genres,\n",
        "# leaving only the probabilities that a track that is an \"techno\" genre is identified by the model as an \"techno\" genre.\n",
        "# Get all rows in the 'index' column.\n",
        "is_techno_as_techno_dt = techno_probabilities_dt[:, index]\n",
        "\n",
        "# Average the probabilites\n",
        "print (\"Part 1: What is the probability that a track that is an techno genre is identified by the model as an techno genre?\")\n",
        "print(\"Probability value for Decision Tree\", is_techno_as_techno_dt.mean().round(3))\n",
        "print (\"\\n\")\n",
        "\n",
        "################\n",
        "\n",
        "##\n",
        "## Part 2: Among all the tracks that the model identifies to be techno, how many are actually techno?\n",
        "##\n",
        "\n",
        "# Needed to be converted to numpy array\n",
        "y_test_array = y_test.values\n",
        "\n",
        "# Get the locations where the model identifies songs as techno\n",
        "locations_dt = np.where(y_pred_DT=='techno')\n",
        "\n",
        "# Get the actual genre for these locations where the model identifies songs as techno\n",
        "actual_genre_dt = y_test_array[locations_dt]\n",
        "\n",
        "# Store the which locations were correctly identified as techno in a boolean array.\n",
        "is_techno_dt = actual_genre_dt == 'techno'\n",
        "\n",
        "# Count number of times where the model identifies the track to be techno and it was actually techno\n",
        "correctly_identify_count_dt = np.count_nonzero(is_techno_dt)\n",
        "\n",
        "# Calculate probabilities by dividing.\n",
        "# Numerator: the number of times techno is correctly identified\n",
        "# Denominator: the total number of times techno is indentified\n",
        "as_techno_is_techno_dt = correctly_identify_count_dt / len(locations_dt[0])\n",
        "\n",
        "# Print the probabilities\n",
        "\n",
        "dt_rounded = str(round(as_techno_is_techno_dt, 3))\n",
        "\n",
        "print (\"Part 2: What is the probability that if a track is identified by the model as techno, it is in fact a techno genre track?\")\n",
        "print(\"Probability value for Decision Tree\", dt_rounded)\n"
      ]
    },
    {
      "cell_type": "markdown",
      "id": "67ccc768-d75d-47f2-b6ac-a4d96c5188c8",
      "metadata": {
        "id": "67ccc768-d75d-47f2-b6ac-a4d96c5188c8"
      },
      "source": [
        "**E)** Name one of the benefit of using your Decision Tree in compare with the two Naive Bayes models you have implemented for this dataset? Connect this benefit to your obseravtions in this dataset.  **[1 mark]** (Limit your answer to maximum 200-300 words)"
      ]
    },
    {
      "cell_type": "markdown",
      "id": "2d7fca43-caf1-4714-90c3-c6fe83d70df9",
      "metadata": {
        "id": "2d7fca43-caf1-4714-90c3-c6fe83d70df9"
      },
      "source": [
        "Answer:\n",
        "\n",
        "One benefit of using Decision Tree compared to the to Naive Bayes models for this dataset is that the decision tree can better deal with both numerical and categorical features in the dataset. As seen in the spotify.csv dataset, there are a combination of categorical, numerical and missing data. With less data imputation, the Decision Tree may perform better than the Naive Bayes due to it's more versatile nature."
      ]
    },
    {
      "cell_type": "markdown",
      "id": "55940e72-3414-4dab-be69-96a579354617",
      "metadata": {
        "id": "55940e72-3414-4dab-be69-96a579354617"
      },
      "source": [
        "# Authorship Declaration:\n",
        "\n",
        "   (1) I certify that the program contained in this submission is completely\n",
        "   my own individual work, except where explicitly noted by comments that\n",
        "   provide details otherwise.  I understand that work that has been developed\n",
        "   by another student, or by me in collaboration with other students,\n",
        "   or by non-students as a result of request, solicitation, or payment,\n",
        "   may not be submitted for assessment in this subject.  I understand that\n",
        "   submitting for assessment work developed by or in collaboration with\n",
        "   other students or non-students constitutes Academic Misconduct, and\n",
        "   may be penalized by mark deductions, or by other penalties determined\n",
        "   via the University of Melbourne Academic Honesty Policy, as described\n",
        "   at https://academicintegrity.unimelb.edu.au.\n",
        "\n",
        "   (2) I also certify that I have not provided a copy of this work in either\n",
        "   softcopy or hardcopy or any other form to any other student, and nor will\n",
        "   I do so until after the marks are released. I understand that providing\n",
        "   my work to other students, regardless of my intention or any undertakings\n",
        "   made to me by that other student, is also Academic Misconduct.\n",
        "\n",
        "   (3) I further understand that providing a copy of the assignment\n",
        "   specification to any form of code authoring or assignment tutoring\n",
        "   service, or drawing the attention of others to such services and code\n",
        "   that may have been made available via such a service, may be regarded\n",
        "   as Student General Misconduct (interfering with the teaching activities\n",
        "   of the University and/or inciting others to commit Academic Misconduct).\n",
        "   I understand that an allegation of Student General Misconduct may arise\n",
        "   regardless of whether or not I personally make use of such solutions\n",
        "   or sought benefit from such actions.\n",
        "\n",
        "   <b>Signed by</b>: `Michael Yixiao Wu | 1388097`\n",
        "   \n",
        "   <b>Dated</b>: `09/04/2024`"
      ]
    }
  ],
  "metadata": {
    "kernelspec": {
      "display_name": "Python 3",
      "name": "python3"
    },
    "language_info": {
      "codemirror_mode": {
        "name": "ipython",
        "version": 3
      },
      "file_extension": ".py",
      "mimetype": "text/x-python",
      "name": "python",
      "nbconvert_exporter": "python",
      "pygments_lexer": "ipython3",
      "version": "3.9.13"
    },
    "colab": {
      "provenance": [],
      "include_colab_link": true
    }
  },
  "nbformat": 4,
  "nbformat_minor": 5
}